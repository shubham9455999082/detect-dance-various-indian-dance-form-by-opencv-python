{
 "cells": [
  {
   "cell_type": "code",
   "execution_count": 8,
   "metadata": {},
   "outputs": [
    {
     "ename": "SyntaxError",
     "evalue": "keyword can't be an expression (<ipython-input-8-2441c69b3fc8>, line 4)",
     "output_type": "error",
     "traceback": [
      "\u001b[1;36m  File \u001b[1;32m\"<ipython-input-8-2441c69b3fc8>\"\u001b[1;36m, line \u001b[1;32m4\u001b[0m\n\u001b[1;33m    img=image.load_img(path + target_size=(128,128,1))\u001b[0m\n\u001b[1;37m                      ^\u001b[0m\n\u001b[1;31mSyntaxError\u001b[0m\u001b[1;31m:\u001b[0m keyword can't be an expression\n"
     ]
    }
   ],
   "source": [
    "data_dir='C:\\\\Users\\\\Shubham\\\\Desktop\\\\New folder\\\\hakererth\\\\dance form\\\\0664343c9a8f11ea\\\\dataset\\\\train\\\\'\n",
    "train_image = []\n",
    "for i in range(train.shape[0]):\n",
    "    img=image.load_img(path + target_size=(128,128,1))\n",
    "    img = image.img_to_array(img)\n",
    "    img = img/255\n",
    "    train_image.append(img)\n",
    "    #labels.append(train['target'].iloc[i])\n",
    "X = np.array(train_image)   "
   ]
  },
  {
   "cell_type": "code",
   "execution_count": 2,
   "metadata": {},
   "outputs": [],
   "source": [
    "from keras.preprocessing import image"
   ]
  },
  {
   "cell_type": "code",
   "execution_count": 5,
   "metadata": {},
   "outputs": [],
   "source": [
    "path='C:\\\\Users\\\\Shubham\\\\Downloads\\\\ISIC_0052060.jpg'"
   ]
  },
  {
   "cell_type": "code",
   "execution_count": 12,
   "metadata": {},
   "outputs": [
    {
     "ename": "SyntaxError",
     "evalue": "keyword can't be an expression (<ipython-input-12-bf361aadc160>, line 1)",
     "output_type": "error",
     "traceback": [
      "\u001b[1;36m  File \u001b[1;32m\"<ipython-input-12-bf361aadc160>\"\u001b[1;36m, line \u001b[1;32m1\u001b[0m\n\u001b[1;33m    img=image.load_img('C:\\\\Users\\\\Shubham\\\\Downloads\\\\ISIC_0052060.jpg\\\\'+ISIC_0052060.jpg + target_size=(128,128,1))\u001b[0m\n\u001b[1;37m                      ^\u001b[0m\n\u001b[1;31mSyntaxError\u001b[0m\u001b[1;31m:\u001b[0m keyword can't be an expression\n"
     ]
    }
   ],
   "source": [
    "img=image.load_img('C:\\\\Users\\\\Shubham\\\\Downloads\\\\ISIC_0052060.jpg\\\\'+ISIC_0052060.jpg + target_size=(128,128,1))\n",
    "img = image.img_to_array(img)\n",
    "img = img/255\n",
    "train_image.append(img)"
   ]
  },
  {
   "cell_type": "code",
   "execution_count": 15,
   "metadata": {},
   "outputs": [],
   "source": [
    "import glob\n",
    "import cv2\n",
    "import numpy as np\n",
    "pic_num=1\n",
    "IMG_DIR='C:\\\\Users\\\\Shubham\\\\Desktop\\\\New folder\\\\hakererth\\\\dance form\\\\0664343c9a8f11ea\\\\dataset\\\\train\\\\'\n",
    "def read_images(directory):\n",
    "    for img in glob.glob(path+\"/*.jpg\"):\n",
    "        image = cv2.imread(img)\n",
    "        image=cv2.cvtColor(image, cv2.COLOR_BGR2RGB)\n",
    "        train_image = cv2.resize(image/255.0  , (32 , 32))\n",
    "        #cv2.imwrite(\"small/\"+str(pic_num)+'.jpg',resized_img)\n",
    "\n",
    "        #yield train_image\n",
    "\n",
    "#train_image =  np.array(list(read_images(IMG_DIR)"
   ]
  },
  {
   "cell_type": "code",
   "execution_count": 17,
   "metadata": {},
   "outputs": [
    {
     "ename": "NameError",
     "evalue": "name 'train_image' is not defined",
     "output_type": "error",
     "traceback": [
      "\u001b[1;31m---------------------------------------------------------------------------\u001b[0m",
      "\u001b[1;31mNameError\u001b[0m                                 Traceback (most recent call last)",
      "\u001b[1;32m<ipython-input-17-3ad58ac90aa7>\u001b[0m in \u001b[0;36m<module>\u001b[1;34m\u001b[0m\n\u001b[1;32m----> 1\u001b[1;33m \u001b[0mtrain_image\u001b[0m\u001b[1;33m\u001b[0m\u001b[1;33m\u001b[0m\u001b[0m\n\u001b[0m",
      "\u001b[1;31mNameError\u001b[0m: name 'train_image' is not defined"
     ]
    }
   ],
   "source": [
    "train_image"
   ]
  },
  {
   "cell_type": "code",
   "execution_count": null,
   "metadata": {},
   "outputs": [],
   "source": []
  }
 ],
 "metadata": {
  "kernelspec": {
   "display_name": "Python 3",
   "language": "python",
   "name": "python3"
  },
  "language_info": {
   "codemirror_mode": {
    "name": "ipython",
    "version": 3
   },
   "file_extension": ".py",
   "mimetype": "text/x-python",
   "name": "python",
   "nbconvert_exporter": "python",
   "pygments_lexer": "ipython3",
   "version": "3.7.3"
  }
 },
 "nbformat": 4,
 "nbformat_minor": 4
}
