{
 "cells": [
  {
   "cell_type": "code",
   "execution_count": null,
   "metadata": {},
   "outputs": [],
   "source": [
    "import pandas as pd\n",
    "import numpy as np\n",
    "from keras.preprocessing.image import ImageDataGenerator"
   ]
  },
  {
   "cell_type": "code",
   "execution_count": null,
   "metadata": {},
   "outputs": [],
   "source": [
    "from keras.layers import Conv2D, MaxPooling2D, Dense, Dropout, Input, Flatten,BatchNormalization,Activation"
   ]
  },
  {
   "cell_type": "code",
   "execution_count": null,
   "metadata": {},
   "outputs": [],
   "source": [
    "#from keras.model import sequential"
   ]
  },
  {
   "cell_type": "code",
   "execution_count": null,
   "metadata": {},
   "outputs": [],
   "source": [
    "train=pd.read_csv('train.csv')"
   ]
  },
  {
   "cell_type": "code",
   "execution_count": null,
   "metadata": {},
   "outputs": [],
   "source": [
    "train.head()"
   ]
  },
  {
   "cell_type": "code",
   "execution_count": null,
   "metadata": {},
   "outputs": [],
   "source": [
    "test=pd.read_csv('test.csv')"
   ]
  },
  {
   "cell_type": "code",
   "execution_count": null,
   "metadata": {},
   "outputs": [],
   "source": [
    "test.head()"
   ]
  },
  {
   "cell_type": "code",
   "execution_count": null,
   "metadata": {},
   "outputs": [],
   "source": [
    "imagen=ImageDataGenerator()"
   ]
  },
  {
   "cell_type": "code",
   "execution_count": null,
   "metadata": {},
   "outputs": [],
   "source": [
    "train1=imagen.flow_from_directory('train' ,shuffle=False,)"
   ]
  },
  {
   "cell_type": "code",
   "execution_count": null,
   "metadata": {},
   "outputs": [],
   "source": [
    "train1"
   ]
  },
  {
   "cell_type": "code",
   "execution_count": null,
   "metadata": {},
   "outputs": [],
   "source": [
    "data_dir='C:\\\\Users\\\\Shubham\\\\Desktop\\\\New folder\\\\hakererth\\\\dance form\\\\0664343c9a8f11ea\\\\dataset\\\\'\n",
    "data=[]\n",
    "labels=[]\n",
    "for i in range(train.shape[0]):\n",
    "    data.append(data_dir + train['Image'].iloc[i]+'.png')\n",
    "    labels.append(train['target'].iloc[i])\n",
    "df=pd.DataFrame(data)\n",
    "df.columns=['images']\n",
    "df['target']=labels    \n",
    "    \n",
    "    "
   ]
  },
  {
   "cell_type": "code",
   "execution_count": null,
   "metadata": {},
   "outputs": [],
   "source": [
    "data"
   ]
  },
  {
   "cell_type": "code",
   "execution_count": null,
   "metadata": {},
   "outputs": [],
   "source": [
    "labels"
   ]
  },
  {
   "cell_type": "code",
   "execution_count": null,
   "metadata": {},
   "outputs": [],
   "source": [
    "#df=pd.DataFrame(data)"
   ]
  },
  {
   "cell_type": "code",
   "execution_count": null,
   "metadata": {},
   "outputs": [],
   "source": [
    "df"
   ]
  },
  {
   "cell_type": "code",
   "execution_count": null,
   "metadata": {},
   "outputs": [],
   "source": []
  },
  {
   "cell_type": "code",
   "execution_count": null,
   "metadata": {},
   "outputs": [],
   "source": []
  },
  {
   "cell_type": "code",
   "execution_count": null,
   "metadata": {},
   "outputs": [],
   "source": []
  },
  {
   "cell_type": "code",
   "execution_count": null,
   "metadata": {},
   "outputs": [],
   "source": []
  },
  {
   "cell_type": "code",
   "execution_count": null,
   "metadata": {},
   "outputs": [],
   "source": []
  },
  {
   "cell_type": "code",
   "execution_count": null,
   "metadata": {},
   "outputs": [],
   "source": []
  },
  {
   "cell_type": "code",
   "execution_count": null,
   "metadata": {},
   "outputs": [],
   "source": []
  },
  {
   "cell_type": "code",
   "execution_count": null,
   "metadata": {},
   "outputs": [],
   "source": []
  },
  {
   "cell_type": "code",
   "execution_count": null,
   "metadata": {},
   "outputs": [],
   "source": []
  },
  {
   "cell_type": "code",
   "execution_count": null,
   "metadata": {},
   "outputs": [],
   "source": []
  },
  {
   "cell_type": "code",
   "execution_count": 26,
   "metadata": {},
   "outputs": [
    {
     "data": {
      "text/plain": [
       "313        manipuri\n",
       "40           odissi\n",
       "162    mohiniyattam\n",
       "283          kathak\n",
       "209    mohiniyattam\n",
       "           ...     \n",
       "204       kuchipudi\n",
       "53           odissi\n",
       "294       kathakali\n",
       "211        sattriya\n",
       "303       kathakali\n",
       "Name: Target, Length: 291, dtype: object"
      ]
     },
     "execution_count": 26,
     "metadata": {},
     "output_type": "execute_result"
    }
   ],
   "source": [
    "y_train"
   ]
  },
  {
   "cell_type": "code",
   "execution_count": 27,
   "metadata": {},
   "outputs": [
    {
     "data": {
      "text/plain": [
       "353           odissi\n",
       "309    bharatanatyam\n",
       "108        kuchipudi\n",
       "132         manipuri\n",
       "7          kuchipudi\n",
       "           ...      \n",
       "0           manipuri\n",
       "91         kuchipudi\n",
       "299        kathakali\n",
       "134         sattriya\n",
       "216        kuchipudi\n",
       "Name: Target, Length: 73, dtype: object"
      ]
     },
     "execution_count": 27,
     "metadata": {},
     "output_type": "execute_result"
    }
   ],
   "source": [
    "y_val"
   ]
  },
  {
   "cell_type": "code",
   "execution_count": null,
   "metadata": {},
   "outputs": [],
   "source": [
    "\n"
   ]
  },
  {
   "cell_type": "code",
   "execution_count": null,
   "metadata": {},
   "outputs": [],
   "source": [
    "\n",
    ")"
   ]
  },
  {
   "cell_type": "code",
   "execution_count": null,
   "metadata": {},
   "outputs": [],
   "source": []
  },
  {
   "cell_type": "code",
   "execution_count": 77,
   "metadata": {},
   "outputs": [],
   "source": [
    "from keras.models import Sequential\n",
    "from keras.layers import Conv2D, MaxPool2D, Flatten, Dense, InputLayer, BatchNormalization, Dropout\n",
    "\n",
    "# build a sequential model\n",
    "model = Sequential()\n",
    "model.add(InputLayer(input_shape=(128, 128, 3)))\n",
    "\n",
    "# 1st conv block\n",
    "model.add(Conv2D(32, (3, 3), activation='relu', strides=(1, 1), padding='same'))\n",
    "model.add(MaxPool2D(pool_size=(2, 2), padding='same'))\n",
    "# 2nd conv block\n",
    "model.add(Conv2D(64, (3, 3), activation='relu', strides=(2, 2), padding='same'))\n",
    "model.add(MaxPool2D(pool_size=(2, 2), padding='same'))\n",
    "model.add(BatchNormalization())\n",
    "# 3rd conv block\n",
    "model.add(Conv2D(128, (3, 3), activation='relu', strides=(2, 2), padding='same'))\n",
    "model.add(MaxPool2D(pool_size=(2, 2), padding='valid'))\n",
    "model.add(BatchNormalization())\n",
    "# ANN block\n",
    "model.add(Flatten())\n",
    "model.add(Dense(units=256, activation='relu'))\n",
    "model.add(Dense(units=256, activation='relu'))\n",
    "model.add(Dropout(0.25))\n",
    "# output layer\n",
    "model.add(Dense(units=8, activation='softmax'))\n"
   ]
  },
  {
   "cell_type": "code",
   "execution_count": 78,
   "metadata": {},
   "outputs": [
    {
     "name": "stdout",
     "output_type": "stream",
     "text": [
      "Train on 291 samples, validate on 73 samples\n",
      "Epoch 1/10\n",
      "291/291 [==============================] - 3s 10ms/step - loss: 2.2188 - accuracy: 0.1821 - val_loss: 2.0677 - val_accuracy: 0.2055\n",
      "Epoch 2/10\n",
      "291/291 [==============================] - 2s 8ms/step - loss: 1.4050 - accuracy: 0.5086 - val_loss: 2.0444 - val_accuracy: 0.1781\n",
      "Epoch 3/10\n",
      "291/291 [==============================] - 2s 8ms/step - loss: 0.9170 - accuracy: 0.6770 - val_loss: 2.0639 - val_accuracy: 0.0959\n",
      "Epoch 4/10\n",
      "291/291 [==============================] - 2s 8ms/step - loss: 0.4923 - accuracy: 0.8694 - val_loss: 2.0730 - val_accuracy: 0.1233\n",
      "Epoch 5/10\n",
      "291/291 [==============================] - 2s 8ms/step - loss: 0.2477 - accuracy: 0.9553 - val_loss: 2.0903 - val_accuracy: 0.1370\n",
      "Epoch 6/10\n",
      "291/291 [==============================] - 2s 8ms/step - loss: 0.1726 - accuracy: 0.9588 - val_loss: 2.0796 - val_accuracy: 0.0959\n",
      "Epoch 7/10\n",
      "291/291 [==============================] - 3s 9ms/step - loss: 0.1278 - accuracy: 0.9691 - val_loss: 2.1089 - val_accuracy: 0.1096\n",
      "Epoch 8/10\n",
      "291/291 [==============================] - 3s 9ms/step - loss: 0.1008 - accuracy: 0.9759 - val_loss: 2.1586 - val_accuracy: 0.1096\n",
      "Epoch 9/10\n",
      "291/291 [==============================] - 3s 9ms/step - loss: 0.0448 - accuracy: 0.9966 - val_loss: 2.1727 - val_accuracy: 0.1370\n",
      "Epoch 10/10\n",
      "291/291 [==============================] - 3s 9ms/step - loss: 0.0237 - accuracy: 0.9966 - val_loss: 2.2218 - val_accuracy: 0.1644\n"
     ]
    },
    {
     "data": {
      "text/plain": [
       "<keras.callbacks.callbacks.History at 0x224aa4c25f8>"
      ]
     },
     "execution_count": 78,
     "metadata": {},
     "output_type": "execute_result"
    }
   ],
   "source": [
    "# compile model\n",
    "model.compile(loss='categorical_crossentropy', optimizer=\"adam\", metrics=['accuracy'])\n",
    "# fit on data for 30 epochs\n",
    "model.fit(X_train, y_train, epochs=10, validation_data=(X_test, y_test))"
   ]
  },
  {
   "cell_type": "code",
   "execution_count": 37,
   "metadata": {},
   "outputs": [],
   "source": [
    "data_dir='C:\\\\Users\\\\Shubham\\\\Desktop\\\\New folder\\\\hakererth\\\\dance form\\\\0664343c9a8f11ea\\\\dataset\\\\train\\\\'\n",
    "train_image = []\n",
    "for i in range(train.shape[0]):\n",
    "    img=image.load_img(data_dir + train['Image'].iloc[i],target_size=(128,128,1))\n",
    "    img = image.img_to_array(img)\n",
    "    img = img/255\n",
    "    train_image.append(img)\n",
    "    #labels.append(train['target'].iloc[i])\n",
    "X = np.array(train_image)    "
   ]
  },
  {
   "cell_type": "code",
   "execution_count": 117,
   "metadata": {},
   "outputs": [
    {
     "data": {
      "text/plain": [
       "(364, 128, 128, 3)"
      ]
     },
     "execution_count": 117,
     "metadata": {},
     "output_type": "execute_result"
    }
   ],
   "source": [
    "X.shape"
   ]
  },
  {
   "cell_type": "code",
   "execution_count": 36,
   "metadata": {},
   "outputs": [],
   "source": [
    "train=pd.read_csv('train.csv')"
   ]
  },
  {
   "cell_type": "code",
   "execution_count": 34,
   "metadata": {},
   "outputs": [],
   "source": [
    "from keras.preprocessing import image"
   ]
  },
  {
   "cell_type": "code",
   "execution_count": 39,
   "metadata": {},
   "outputs": [],
   "source": [
    "from keras.utils import to_categorical"
   ]
  },
  {
   "cell_type": "code",
   "execution_count": 40,
   "metadata": {},
   "outputs": [],
   "source": [
    "from sklearn.preprocessing import LabelEncoder\n",
    "label_encoder =LabelEncoder()\n",
    "y=train['target'].values\n",
    "Y = label_encoder.fit_transform(y)\n",
    "#y=train['target'].values\n",
    "y1 = np.array(to_categorical(Y))"
   ]
  },
  {
   "cell_type": "code",
   "execution_count": 41,
   "metadata": {},
   "outputs": [
    {
     "data": {
      "text/plain": [
       "(364, 8)"
      ]
     },
     "execution_count": 41,
     "metadata": {},
     "output_type": "execute_result"
    }
   ],
   "source": [
    "y1.shape"
   ]
  },
  {
   "cell_type": "code",
   "execution_count": 42,
   "metadata": {},
   "outputs": [
    {
     "data": {
      "text/plain": [
       "array(['manipuri', 'bharatanatyam', 'odissi', 'kathakali', 'odissi',\n",
       "       'kathak', 'sattriya', 'kuchipudi', 'sattriya', 'kuchipudi',\n",
       "       'kuchipudi', 'kuchipudi', 'kathak', 'sattriya', 'kathakali',\n",
       "       'odissi', 'sattriya', 'kuchipudi', 'manipuri', 'kathak',\n",
       "       'manipuri', 'bharatanatyam', 'kuchipudi', 'kuchipudi',\n",
       "       'mohiniyattam', 'odissi', 'kathak', 'odissi', 'odissi', 'sattriya',\n",
       "       'kathakali', 'kathak', 'kathakali', 'sattriya', 'bharatanatyam',\n",
       "       'kathak', 'bharatanatyam', 'kathakali', 'odissi', 'odissi',\n",
       "       'odissi', 'kuchipudi', 'manipuri', 'mohiniyattam', 'mohiniyattam',\n",
       "       'odissi', 'kathak', 'manipuri', 'kathak', 'mohiniyattam', 'odissi',\n",
       "       'sattriya', 'sattriya', 'odissi', 'kuchipudi', 'sattriya',\n",
       "       'mohiniyattam', 'manipuri', 'sattriya', 'kathak', 'odissi',\n",
       "       'sattriya', 'manipuri', 'kathakali', 'sattriya', 'kathakali',\n",
       "       'manipuri', 'bharatanatyam', 'kathak', 'kathak', 'sattriya',\n",
       "       'bharatanatyam', 'kathakali', 'kathak', 'mohiniyattam', 'manipuri',\n",
       "       'kathak', 'kuchipudi', 'odissi', 'kuchipudi', 'bharatanatyam',\n",
       "       'kuchipudi', 'bharatanatyam', 'sattriya', 'kathak', 'kuchipudi',\n",
       "       'mohiniyattam', 'manipuri', 'mohiniyattam', 'bharatanatyam',\n",
       "       'odissi', 'kuchipudi', 'odissi', 'kuchipudi', 'bharatanatyam',\n",
       "       'mohiniyattam', 'bharatanatyam', 'bharatanatyam', 'sattriya',\n",
       "       'kathak', 'kathakali', 'mohiniyattam', 'sattriya', 'bharatanatyam',\n",
       "       'odissi', 'kathak', 'sattriya', 'sattriya', 'kuchipudi', 'odissi',\n",
       "       'kathak', 'manipuri', 'kathakali', 'bharatanatyam', 'mohiniyattam',\n",
       "       'kathakali', 'kuchipudi', 'manipuri', 'mohiniyattam',\n",
       "       'bharatanatyam', 'mohiniyattam', 'kathak', 'kathakali',\n",
       "       'kuchipudi', 'bharatanatyam', 'mohiniyattam', 'bharatanatyam',\n",
       "       'mohiniyattam', 'kathakali', 'bharatanatyam', 'mohiniyattam',\n",
       "       'bharatanatyam', 'manipuri', 'manipuri', 'sattriya',\n",
       "       'mohiniyattam', 'sattriya', 'bharatanatyam', 'odissi',\n",
       "       'mohiniyattam', 'odissi', 'mohiniyattam', 'kathakali', 'odissi',\n",
       "       'sattriya', 'bharatanatyam', 'mohiniyattam', 'odissi', 'sattriya',\n",
       "       'manipuri', 'sattriya', 'sattriya', 'kathak', 'odissi',\n",
       "       'kathakali', 'bharatanatyam', 'mohiniyattam', 'kathak',\n",
       "       'kuchipudi', 'manipuri', 'sattriya', 'kathakali', 'mohiniyattam',\n",
       "       'kathakali', 'kathak', 'sattriya', 'mohiniyattam', 'bharatanatyam',\n",
       "       'bharatanatyam', 'kuchipudi', 'odissi', 'kathak', 'odissi',\n",
       "       'kuchipudi', 'mohiniyattam', 'kuchipudi', 'odissi', 'sattriya',\n",
       "       'bharatanatyam', 'bharatanatyam', 'kathakali', 'odissi',\n",
       "       'mohiniyattam', 'manipuri', 'odissi', 'kathakali', 'mohiniyattam',\n",
       "       'mohiniyattam', 'kuchipudi', 'kathak', 'mohiniyattam', 'manipuri',\n",
       "       'odissi', 'odissi', 'kuchipudi', 'kathakali', 'bharatanatyam',\n",
       "       'kathakali', 'mohiniyattam', 'bharatanatyam', 'kathakali',\n",
       "       'mohiniyattam', 'odissi', 'manipuri', 'kuchipudi', 'bharatanatyam',\n",
       "       'sattriya', 'kuchipudi', 'kathakali', 'mohiniyattam', 'kathakali',\n",
       "       'sattriya', 'mohiniyattam', 'kathak', 'kuchipudi', 'mohiniyattam',\n",
       "       'kuchipudi', 'sattriya', 'mohiniyattam', 'kathak', 'mohiniyattam',\n",
       "       'sattriya', 'odissi', 'kathak', 'kathak', 'kathakali',\n",
       "       'mohiniyattam', 'mohiniyattam', 'sattriya', 'kathak',\n",
       "       'bharatanatyam', 'kathak', 'manipuri', 'kathakali', 'sattriya',\n",
       "       'manipuri', 'kuchipudi', 'manipuri', 'kathak', 'bharatanatyam',\n",
       "       'kathak', 'kuchipudi', 'kathakali', 'kathakali', 'odissi',\n",
       "       'kuchipudi', 'bharatanatyam', 'kathakali', 'kuchipudi',\n",
       "       'kathakali', 'odissi', 'bharatanatyam', 'sattriya', 'sattriya',\n",
       "       'kathak', 'bharatanatyam', 'odissi', 'sattriya', 'bharatanatyam',\n",
       "       'odissi', 'sattriya', 'mohiniyattam', 'kathakali', 'kathakali',\n",
       "       'kuchipudi', 'kuchipudi', 'odissi', 'manipuri', 'odissi',\n",
       "       'sattriya', 'kathak', 'odissi', 'manipuri', 'bharatanatyam',\n",
       "       'kuchipudi', 'bharatanatyam', 'sattriya', 'mohiniyattam',\n",
       "       'manipuri', 'bharatanatyam', 'kathakali', 'mohiniyattam',\n",
       "       'bharatanatyam', 'kathak', 'kathakali', 'kuchipudi',\n",
       "       'bharatanatyam', 'kathakali', 'mohiniyattam', 'kathakali',\n",
       "       'kuchipudi', 'sattriya', 'sattriya', 'mohiniyattam', 'kathakali',\n",
       "       'sattriya', 'sattriya', 'kuchipudi', 'manipuri', 'kathakali',\n",
       "       'manipuri', 'manipuri', 'kathakali', 'kathakali', 'mohiniyattam',\n",
       "       'kuchipudi', 'odissi', 'sattriya', 'bharatanatyam',\n",
       "       'bharatanatyam', 'kathak', 'kathak', 'kuchipudi', 'manipuri',\n",
       "       'kathakali', 'mohiniyattam', 'kathakali', 'kathakali', 'kuchipudi',\n",
       "       'odissi', 'odissi', 'sattriya', 'manipuri', 'kuchipudi', 'odissi',\n",
       "       'kathak', 'kathakali', 'manipuri', 'kathakali', 'kathak',\n",
       "       'bharatanatyam', 'odissi', 'bharatanatyam', 'kuchipudi', 'kathak',\n",
       "       'mohiniyattam', 'manipuri', 'bharatanatyam', 'mohiniyattam',\n",
       "       'odissi', 'kathakali', 'odissi', 'manipuri', 'kuchipudi', 'odissi',\n",
       "       'bharatanatyam', 'manipuri', 'kathak', 'mohiniyattam', 'kathak',\n",
       "       'kuchipudi', 'kathak', 'mohiniyattam', 'odissi', 'bharatanatyam',\n",
       "       'kathak', 'kathak', 'kathakali', 'odissi', 'manipuri',\n",
       "       'mohiniyattam', 'kuchipudi', 'manipuri', 'mohiniyattam'],\n",
       "      dtype=object)"
      ]
     },
     "execution_count": 42,
     "metadata": {},
     "output_type": "execute_result"
    }
   ],
   "source": [
    "y"
   ]
  },
  {
   "cell_type": "code",
   "execution_count": 43,
   "metadata": {},
   "outputs": [
    {
     "data": {
      "text/plain": [
       "(364, 128, 128, 3)"
      ]
     },
     "execution_count": 43,
     "metadata": {},
     "output_type": "execute_result"
    }
   ],
   "source": [
    "X.shape"
   ]
  },
  {
   "cell_type": "code",
   "execution_count": 44,
   "metadata": {},
   "outputs": [
    {
     "data": {
      "text/html": [
       "<div>\n",
       "<style scoped>\n",
       "    .dataframe tbody tr th:only-of-type {\n",
       "        vertical-align: middle;\n",
       "    }\n",
       "\n",
       "    .dataframe tbody tr th {\n",
       "        vertical-align: top;\n",
       "    }\n",
       "\n",
       "    .dataframe thead th {\n",
       "        text-align: right;\n",
       "    }\n",
       "</style>\n",
       "<table border=\"1\" class=\"dataframe\">\n",
       "  <thead>\n",
       "    <tr style=\"text-align: right;\">\n",
       "      <th></th>\n",
       "      <th>Image</th>\n",
       "      <th>target</th>\n",
       "    </tr>\n",
       "  </thead>\n",
       "  <tbody>\n",
       "    <tr>\n",
       "      <th>0</th>\n",
       "      <td>96.jpg</td>\n",
       "      <td>manipuri</td>\n",
       "    </tr>\n",
       "    <tr>\n",
       "      <th>1</th>\n",
       "      <td>163.jpg</td>\n",
       "      <td>bharatanatyam</td>\n",
       "    </tr>\n",
       "    <tr>\n",
       "      <th>2</th>\n",
       "      <td>450.jpg</td>\n",
       "      <td>odissi</td>\n",
       "    </tr>\n",
       "    <tr>\n",
       "      <th>3</th>\n",
       "      <td>219.jpg</td>\n",
       "      <td>kathakali</td>\n",
       "    </tr>\n",
       "    <tr>\n",
       "      <th>4</th>\n",
       "      <td>455.jpg</td>\n",
       "      <td>odissi</td>\n",
       "    </tr>\n",
       "    <tr>\n",
       "      <th>...</th>\n",
       "      <td>...</td>\n",
       "      <td>...</td>\n",
       "    </tr>\n",
       "    <tr>\n",
       "      <th>359</th>\n",
       "      <td>72.jpg</td>\n",
       "      <td>manipuri</td>\n",
       "    </tr>\n",
       "    <tr>\n",
       "      <th>360</th>\n",
       "      <td>253.jpg</td>\n",
       "      <td>mohiniyattam</td>\n",
       "    </tr>\n",
       "    <tr>\n",
       "      <th>361</th>\n",
       "      <td>404.jpg</td>\n",
       "      <td>kuchipudi</td>\n",
       "    </tr>\n",
       "    <tr>\n",
       "      <th>362</th>\n",
       "      <td>89.jpg</td>\n",
       "      <td>manipuri</td>\n",
       "    </tr>\n",
       "    <tr>\n",
       "      <th>363</th>\n",
       "      <td>311.jpg</td>\n",
       "      <td>mohiniyattam</td>\n",
       "    </tr>\n",
       "  </tbody>\n",
       "</table>\n",
       "<p>364 rows × 2 columns</p>\n",
       "</div>"
      ],
      "text/plain": [
       "       Image         target\n",
       "0     96.jpg       manipuri\n",
       "1    163.jpg  bharatanatyam\n",
       "2    450.jpg         odissi\n",
       "3    219.jpg      kathakali\n",
       "4    455.jpg         odissi\n",
       "..       ...            ...\n",
       "359   72.jpg       manipuri\n",
       "360  253.jpg   mohiniyattam\n",
       "361  404.jpg      kuchipudi\n",
       "362   89.jpg       manipuri\n",
       "363  311.jpg   mohiniyattam\n",
       "\n",
       "[364 rows x 2 columns]"
      ]
     },
     "execution_count": 44,
     "metadata": {},
     "output_type": "execute_result"
    }
   ],
   "source": [
    "train"
   ]
  },
  {
   "cell_type": "code",
   "execution_count": 125,
   "metadata": {},
   "outputs": [],
   "source": [
    "X_train, X_test, y_train, y_test = train_test_split(X, y1, random_state=42, test_size=0.2)"
   ]
  },
  {
   "cell_type": "code",
   "execution_count": 126,
   "metadata": {},
   "outputs": [],
   "source": [
    "#model.add(Conv2D(128, (3, 3), activation='relu', strides=(2, 2), padding='same'))\n",
    "#model.add(MaxPool2D(pool_size=(2, 2), padding='valid'))"
   ]
  },
  {
   "cell_type": "code",
   "execution_count": 174,
   "metadata": {},
   "outputs": [],
   "source": [
    "model = Sequential()\n",
    "model.add(Conv2D(64, kernel_size=(3, 3),activation='relu',input_shape=(32,32,3), padding='same'))\n",
    "model.add(MaxPooling2D(pool_size=(2, 2), strides=2))\n",
    "model.add(Conv2D(128, (3, 3), activation='relu', padding='same'))\n",
    "#model.add(Conv2D(70, (3,3)))\n",
    "model.add(MaxPooling2D(pool_size=(2, 2), strides=2))\n",
    "model.add(Dropout(0.25))\n",
    "model.add(Flatten())\n",
    "model.add(Dense(256, activation='relu'))\n",
    "model.add(Dense(256, activation='relu'))\n",
    "model.add(Dropout(0.5))\n",
    "model.add(Dense(8, activation='softmax'))"
   ]
  },
  {
   "cell_type": "code",
   "execution_count": 47,
   "metadata": {},
   "outputs": [],
   "source": [
    "import keras\n",
    "from keras.models import Sequential\n",
    "from keras.layers import Dense, Dropout, Flatten\n",
    "from keras.layers import Conv2D, MaxPooling2D\n",
    "from keras.utils import to_categorical\n",
    "from keras.preprocessing import image\n",
    "import numpy as np\n",
    "import pandas as pd\n",
    "import matplotlib.pyplot as plt\n",
    "from sklearn.model_selection import train_test_split\n",
    "from keras.utils import to_categorical"
   ]
  },
  {
   "cell_type": "code",
   "execution_count": 175,
   "metadata": {},
   "outputs": [],
   "source": [
    "model.compile(loss='categorical_crossentropy',optimizer='Adam',metrics=['accuracy'])"
   ]
  },
  {
   "cell_type": "code",
   "execution_count": 129,
   "metadata": {},
   "outputs": [
    {
     "name": "stdout",
     "output_type": "stream",
     "text": [
      "Train on 291 samples, validate on 73 samples\n",
      "Epoch 1/10\n",
      "291/291 [==============================] - 22s 74ms/step - loss: 2.5171 - accuracy: 0.0997 - val_loss: 2.0776 - val_accuracy: 0.2740\n",
      "Epoch 2/10\n",
      "291/291 [==============================] - 19s 67ms/step - loss: 2.0656 - accuracy: 0.2577 - val_loss: 2.0698 - val_accuracy: 0.1507\n",
      "Epoch 3/10\n",
      "291/291 [==============================] - 20s 67ms/step - loss: 2.0064 - accuracy: 0.2268 - val_loss: 2.0602 - val_accuracy: 0.2329\n",
      "Epoch 4/10\n",
      "291/291 [==============================] - 19s 67ms/step - loss: 1.8259 - accuracy: 0.3883 - val_loss: 1.8431 - val_accuracy: 0.3562\n",
      "Epoch 5/10\n",
      "291/291 [==============================] - 20s 67ms/step - loss: 1.4216 - accuracy: 0.5704 - val_loss: 1.5653 - val_accuracy: 0.4247\n",
      "Epoch 6/10\n",
      "291/291 [==============================] - 20s 68ms/step - loss: 0.7919 - accuracy: 0.7698 - val_loss: 1.6633 - val_accuracy: 0.4795\n",
      "Epoch 7/10\n",
      "291/291 [==============================] - 20s 68ms/step - loss: 0.3812 - accuracy: 0.8763 - val_loss: 2.2373 - val_accuracy: 0.3562\n",
      "Epoch 8/10\n",
      "291/291 [==============================] - 20s 68ms/step - loss: 0.2880 - accuracy: 0.9278 - val_loss: 1.9800 - val_accuracy: 0.4521\n",
      "Epoch 9/10\n",
      "291/291 [==============================] - 20s 70ms/step - loss: 0.1326 - accuracy: 0.9691 - val_loss: 2.5665 - val_accuracy: 0.4521\n",
      "Epoch 10/10\n",
      "291/291 [==============================] - 20s 69ms/step - loss: 0.0524 - accuracy: 0.9863 - val_loss: 3.0856 - val_accuracy: 0.4795\n"
     ]
    },
    {
     "data": {
      "text/plain": [
       "<keras.callbacks.callbacks.History at 0x225740b5eb8>"
      ]
     },
     "execution_count": 129,
     "metadata": {},
     "output_type": "execute_result"
    }
   ],
   "source": [
    "model.fit(X_train, y_train, epochs=10, validation_data=(X_test, y_test))"
   ]
  },
  {
   "cell_type": "code",
   "execution_count": null,
   "metadata": {},
   "outputs": [],
   "source": []
  },
  {
   "cell_type": "code",
   "execution_count": null,
   "metadata": {},
   "outputs": [],
   "source": []
  },
  {
   "cell_type": "code",
   "execution_count": 244,
   "metadata": {},
   "outputs": [],
   "source": [
    "p=model.predict(X_test)"
   ]
  },
  {
   "cell_type": "code",
   "execution_count": 212,
   "metadata": {},
   "outputs": [
    {
     "data": {
      "text/plain": [
       "(73, 8)"
      ]
     },
     "execution_count": 212,
     "metadata": {},
     "output_type": "execute_result"
    }
   ],
   "source": [
    "p.shape"
   ]
  },
  {
   "cell_type": "code",
   "execution_count": 213,
   "metadata": {},
   "outputs": [
    {
     "data": {
      "text/plain": [
       "(291, 28, 28, 3)"
      ]
     },
     "execution_count": 213,
     "metadata": {},
     "output_type": "execute_result"
    }
   ],
   "source": [
    "X_train.shape"
   ]
  },
  {
   "cell_type": "code",
   "execution_count": 214,
   "metadata": {},
   "outputs": [
    {
     "data": {
      "text/plain": [
       "(291, 8)"
      ]
     },
     "execution_count": 214,
     "metadata": {},
     "output_type": "execute_result"
    }
   ],
   "source": [
    "y_train.shape"
   ]
  },
  {
   "cell_type": "code",
   "execution_count": 245,
   "metadata": {},
   "outputs": [
    {
     "data": {
      "text/plain": [
       "array([[2.02604324e-01, 1.37615381e-02, 4.78942925e-03, 2.34747585e-02,\n",
       "        4.88526672e-01, 8.53887410e-04, 2.52982706e-01, 1.30066890e-02],\n",
       "       [4.82729694e-04, 4.35079545e-01, 4.11282433e-03, 2.38269120e-02,\n",
       "        4.77299822e-04, 1.16652668e-01, 2.72196741e-03, 4.16646034e-01],\n",
       "       [8.69631246e-02, 2.60981601e-02, 3.03204311e-03, 7.36845359e-02,\n",
       "        2.15530228e-02, 6.80963993e-02, 6.39707088e-01, 8.08656812e-02],\n",
       "       [5.05299948e-04, 9.00124729e-01, 3.33701097e-03, 8.60160962e-02,\n",
       "        1.85966037e-05, 2.42468086e-03, 4.82956227e-03, 2.74398318e-03],\n",
       "       [8.60435888e-02, 3.76138923e-04, 6.16620760e-04, 2.17232138e-01,\n",
       "        4.80949849e-01, 1.86193630e-01, 2.66145039e-02, 1.97348278e-03],\n",
       "       [2.25846516e-03, 5.89780393e-04, 7.24080174e-09, 7.84724193e-07,\n",
       "        9.94396925e-01, 7.75040651e-04, 1.34344376e-03, 6.35609904e-04],\n",
       "       [5.00549003e-03, 5.98922260e-02, 4.97192331e-03, 8.98606181e-01,\n",
       "        1.62597091e-04, 1.94098172e-03, 2.18012817e-02, 7.61939585e-03],\n",
       "       [9.43249345e-01, 2.48135580e-03, 4.41084057e-02, 6.08051382e-03,\n",
       "        1.50277527e-04, 4.73737920e-04, 1.28401280e-03, 2.17241119e-03],\n",
       "       [4.21814264e-07, 4.81109321e-03, 4.02568579e-02, 8.86786640e-01,\n",
       "        8.31339785e-05, 4.87252604e-03, 7.81450886e-04, 6.24079295e-02],\n",
       "       [3.52923875e-03, 3.33848894e-02, 3.99293192e-03, 8.57181966e-01,\n",
       "        2.94865295e-03, 8.35127357e-05, 4.11477126e-02, 5.77312447e-02],\n",
       "       [5.68465630e-08, 6.67494760e-07, 1.43522696e-08, 1.25721158e-07,\n",
       "        2.73622680e-10, 9.99956965e-01, 4.05785300e-07, 4.18659947e-05],\n",
       "       [7.87326228e-03, 3.13278623e-02, 1.87629004e-04, 9.33244884e-01,\n",
       "        1.22637569e-03, 2.43673418e-02, 1.32142054e-03, 4.51232831e-04],\n",
       "       [3.27542402e-05, 8.31479905e-04, 9.56623793e-01, 3.50577198e-02,\n",
       "        2.17939350e-06, 3.53416661e-04, 6.64145639e-03, 4.57349932e-04],\n",
       "       [1.42827543e-04, 4.44211983e-05, 6.17064419e-04, 3.70030379e-04,\n",
       "        3.48429765e-08, 1.24440738e-03, 3.82372527e-04, 9.97198820e-01],\n",
       "       [1.17822810e-05, 2.07712537e-06, 9.21604165e-04, 9.05309524e-03,\n",
       "        2.59064400e-04, 9.87223387e-01, 2.47929688e-03, 4.96827633e-05],\n",
       "       [1.77644068e-08, 3.99194287e-05, 1.01167252e-07, 9.34778750e-01,\n",
       "        1.26550522e-05, 2.51656684e-06, 6.51658103e-02, 2.15728193e-07],\n",
       "       [2.72948761e-04, 4.85103168e-02, 4.07037760e-07, 1.51932895e-01,\n",
       "        1.68497805e-04, 1.04645945e-01, 3.32446233e-03, 6.91144466e-01],\n",
       "       [7.86397897e-04, 1.18547519e-04, 2.05784896e-03, 6.00993051e-04,\n",
       "        1.50155884e-05, 9.39822316e-01, 5.43880975e-04, 5.60549274e-02],\n",
       "       [1.52481988e-01, 1.11768711e-02, 7.08725631e-01, 4.99069616e-02,\n",
       "        1.49076036e-03, 3.14293284e-04, 9.97780473e-04, 7.49057233e-02],\n",
       "       [1.69660343e-04, 1.99270711e-04, 5.90164633e-03, 2.10635667e-03,\n",
       "        1.34671524e-01, 1.19694415e-03, 8.67343442e-06, 8.55745971e-01],\n",
       "       [4.93731303e-03, 9.25078522e-04, 6.48813486e-01, 2.55413324e-01,\n",
       "        7.21528719e-04, 3.56632583e-02, 4.49401450e-05, 5.34809642e-02],\n",
       "       [1.20097193e-05, 1.11902878e-02, 3.77988606e-03, 2.71713384e-03,\n",
       "        1.84221317e-05, 1.11155363e-03, 1.62882335e-03, 9.79541898e-01],\n",
       "       [5.77026094e-06, 2.57058558e-03, 9.90839779e-01, 2.46651960e-03,\n",
       "        6.39595673e-05, 3.98528716e-03, 8.55921371e-06, 5.96070349e-05],\n",
       "       [2.18614528e-04, 2.28770170e-02, 7.91351259e-01, 1.90925458e-03,\n",
       "        2.93072779e-04, 1.57848618e-03, 1.68425560e-01, 1.33466935e-02],\n",
       "       [6.44932920e-03, 1.30381522e-04, 1.35254860e-03, 4.11163364e-03,\n",
       "        1.12961279e-05, 9.52164769e-01, 1.55099970e-03, 3.42290029e-02],\n",
       "       [3.47482652e-04, 1.85247476e-03, 9.61570680e-01, 2.12205783e-03,\n",
       "        7.42912653e-06, 4.10418943e-06, 3.21598984e-02, 1.93578436e-03],\n",
       "       [1.00286491e-03, 4.76884423e-03, 9.55200157e-05, 9.60721076e-01,\n",
       "        1.12699124e-03, 1.94758195e-02, 4.01034672e-03, 8.79847072e-03],\n",
       "       [2.04897788e-07, 1.12167385e-07, 3.75437338e-07, 6.24405232e-07,\n",
       "        2.30730723e-09, 6.34095559e-05, 7.17199555e-07, 9.99934554e-01],\n",
       "       [1.73537202e-08, 2.66747702e-05, 3.17491128e-07, 9.21441972e-01,\n",
       "        6.01522879e-06, 2.32501452e-06, 7.85223246e-02, 2.92719818e-07],\n",
       "       [2.75586289e-03, 5.01048332e-03, 8.73570051e-03, 2.32218310e-01,\n",
       "        1.37123063e-01, 1.27332145e-02, 2.67306017e-03, 5.98750293e-01],\n",
       "       [6.36166817e-07, 2.45637040e-07, 3.22074072e-07, 2.21707924e-05,\n",
       "        1.55609055e-08, 3.03757679e-06, 9.99973416e-01, 1.38891650e-07],\n",
       "       [1.26135373e-03, 4.13030284e-06, 6.67530985e-05, 1.97299704e-01,\n",
       "        3.28384750e-02, 6.68356940e-02, 6.88563168e-01, 1.31307840e-02],\n",
       "       [1.18454115e-03, 2.69682874e-04, 2.58471468e-03, 5.47354519e-01,\n",
       "        1.71256454e-06, 4.20529038e-01, 2.66809519e-02, 1.39486161e-03],\n",
       "       [8.65830407e-06, 9.88980651e-01, 2.22563571e-07, 2.32748035e-03,\n",
       "        2.66282314e-05, 9.29285015e-04, 7.21318973e-03, 5.13891224e-04],\n",
       "       [5.05262688e-06, 6.34925906e-04, 3.18194943e-05, 9.12416756e-01,\n",
       "        8.89457806e-06, 1.54808906e-04, 8.61508250e-02, 5.97027421e-04],\n",
       "       [6.60933656e-05, 1.71691533e-02, 3.78076220e-05, 1.07915811e-02,\n",
       "        1.42536312e-03, 1.10939629e-01, 2.73133833e-02, 8.32257032e-01],\n",
       "       [8.50717246e-04, 1.32731823e-02, 3.61309946e-01, 2.29455203e-01,\n",
       "        3.22537171e-03, 1.59647644e-01, 2.30058372e-01, 2.17962102e-03],\n",
       "       [1.39170137e-04, 3.21181607e-04, 4.81743700e-05, 7.13276584e-03,\n",
       "        6.84029101e-06, 9.78422701e-01, 2.02268246e-03, 1.19064599e-02],\n",
       "       [2.32625272e-04, 3.87397083e-03, 1.69956127e-06, 9.99146421e-03,\n",
       "        4.35487041e-03, 8.71969819e-01, 1.06860273e-01, 2.71532056e-03],\n",
       "       [1.69217587e-03, 1.35020033e-01, 3.07097316e-01, 8.54459498e-03,\n",
       "        1.60110265e-03, 5.78448251e-02, 3.12877237e-03, 4.85071152e-01],\n",
       "       [3.36778956e-03, 7.71836596e-07, 9.91804004e-01, 1.65004469e-03,\n",
       "        7.60476439e-07, 1.62510539e-03, 1.65243036e-04, 1.38625398e-03],\n",
       "       [3.88325716e-05, 3.20482417e-04, 2.29581119e-03, 9.84470844e-01,\n",
       "        3.55077139e-03, 1.79826561e-03, 7.31248502e-03, 2.12502346e-04],\n",
       "       [6.56360953e-06, 1.59520510e-04, 8.88429495e-05, 9.92132366e-01,\n",
       "        3.85713247e-05, 4.42667137e-04, 6.99799275e-03, 1.33522917e-04],\n",
       "       [1.93480315e-04, 2.40435116e-02, 7.02967867e-04, 7.67831178e-03,\n",
       "        2.59658769e-02, 5.05698496e-04, 1.05969654e-02, 9.30313170e-01],\n",
       "       [2.09299289e-02, 1.37665763e-01, 2.42509274e-03, 4.66462597e-02,\n",
       "        6.48536443e-05, 1.82963282e-01, 1.37576267e-01, 4.71728593e-01],\n",
       "       [1.64146570e-06, 6.23164760e-06, 1.00807614e-04, 9.93187904e-01,\n",
       "        2.17199818e-06, 6.96474890e-05, 6.62795547e-03, 3.67967823e-06],\n",
       "       [3.38543719e-03, 2.89456546e-01, 1.84734014e-03, 1.94290832e-01,\n",
       "        1.25307299e-04, 1.88447630e-05, 5.10844409e-01, 3.12302072e-05],\n",
       "       [4.92556046e-06, 2.87436967e-04, 7.56697318e-07, 9.51305032e-04,\n",
       "        9.82223173e-06, 9.98683512e-01, 3.27642301e-05, 2.95525169e-05],\n",
       "       [1.62327886e-02, 3.97003070e-02, 3.72863710e-02, 2.11879588e-03,\n",
       "        3.08359540e-06, 2.42685739e-04, 8.51684622e-03, 8.95899117e-01],\n",
       "       [1.09117762e-04, 1.28652679e-03, 6.86769262e-02, 1.58675909e-01,\n",
       "        1.73709122e-04, 7.98106343e-02, 7.78031722e-02, 6.13463938e-01],\n",
       "       [3.77459917e-04, 6.21422587e-05, 9.17895231e-05, 2.80053995e-04,\n",
       "        4.80666631e-06, 2.32184981e-03, 1.86485518e-02, 9.78213370e-01],\n",
       "       [9.36404467e-01, 3.41905677e-03, 9.49758323e-05, 1.24975841e-03,\n",
       "        5.40859066e-03, 5.12663100e-05, 5.29673696e-02, 4.04408260e-04],\n",
       "       [1.03127456e-03, 5.16022730e-04, 2.24585165e-06, 1.08815275e-01,\n",
       "        1.04185299e-03, 1.76974421e-03, 8.85709345e-01, 1.11424131e-03],\n",
       "       [5.08360739e-04, 5.86026860e-03, 4.13344242e-04, 2.50450283e-01,\n",
       "        5.00552869e-06, 7.56189320e-06, 7.42594182e-01, 1.60998621e-04],\n",
       "       [3.26986387e-02, 4.15111072e-02, 6.10911697e-02, 1.59929618e-02,\n",
       "        5.77360950e-03, 1.09981455e-01, 6.37638450e-01, 9.53125879e-02],\n",
       "       [1.44882174e-03, 5.16544819e-01, 5.48362150e-04, 2.37227287e-02,\n",
       "        4.11387980e-01, 6.12344811e-05, 8.43408704e-03, 3.78520191e-02],\n",
       "       [1.56400120e-03, 4.36283916e-01, 8.09082621e-07, 4.19838995e-01,\n",
       "        6.07971997e-05, 2.73626316e-02, 1.12550594e-01, 2.33825669e-03],\n",
       "       [1.33219419e-06, 2.20855640e-07, 9.99856472e-01, 9.08452494e-05,\n",
       "        3.78508851e-08, 1.89873426e-05, 8.06441506e-07, 3.13834826e-05],\n",
       "       [5.98549843e-03, 3.23805325e-02, 8.80087318e-04, 2.09746584e-01,\n",
       "        2.90327473e-04, 5.28164469e-02, 6.94403172e-01, 3.49739357e-03],\n",
       "       [1.03763712e-03, 1.69115447e-04, 3.41850938e-03, 6.24901056e-02,\n",
       "        1.10873509e-06, 7.67469108e-01, 1.27918869e-01, 3.74954753e-02],\n",
       "       [7.72705451e-02, 1.39792860e-02, 3.42116313e-04, 3.35650868e-04,\n",
       "        1.47765921e-02, 5.13514757e-01, 3.08860955e-03, 3.76692444e-01],\n",
       "       [9.94100034e-01, 7.03404385e-06, 4.56913229e-04, 4.51007951e-03,\n",
       "        5.08647681e-05, 1.80147781e-05, 6.30729366e-04, 2.26404038e-04],\n",
       "       [1.05346948e-01, 6.76978007e-03, 7.05496594e-03, 2.30910163e-02,\n",
       "        6.40949965e-01, 6.36687444e-04, 2.09443763e-01, 6.70688180e-03],\n",
       "       [5.30783145e-04, 3.49446163e-02, 2.53217155e-03, 9.51629162e-01,\n",
       "        6.77214630e-05, 1.43167956e-04, 9.84138995e-03, 3.10896925e-04],\n",
       "       [1.12580028e-06, 2.08366444e-08, 4.48093760e-06, 1.71092851e-03,\n",
       "        5.46136221e-07, 8.93700961e-03, 1.00539432e-06, 9.89344895e-01],\n",
       "       [1.37481391e-06, 6.54301140e-03, 3.82050166e-06, 9.93030369e-01,\n",
       "        1.74591406e-07, 2.29371338e-07, 4.21046076e-04, 1.07171232e-08],\n",
       "       [1.45985698e-02, 1.05365127e-01, 2.68437737e-03, 9.07807518e-03,\n",
       "        1.84344705e-02, 1.86088309e-02, 8.21315289e-01, 9.91526619e-03],\n",
       "       [7.55549610e-01, 1.23468705e-03, 1.50158163e-02, 2.48994771e-02,\n",
       "        6.51365728e-04, 1.55012798e-03, 1.65164694e-01, 3.59342806e-02],\n",
       "       [6.67283311e-04, 2.55256742e-02, 4.67568840e-04, 8.17757845e-01,\n",
       "        2.64891582e-06, 2.90555619e-02, 1.25755355e-01, 7.68057420e-04],\n",
       "       [9.84706700e-01, 1.00477577e-04, 6.43398425e-06, 1.06437792e-05,\n",
       "        1.53564892e-04, 5.91528136e-03, 1.80924323e-03, 7.29752192e-03],\n",
       "       [2.82393175e-05, 4.37167317e-01, 1.90561444e-01, 2.93253839e-01,\n",
       "        9.70190798e-04, 8.28128657e-04, 2.67679966e-03, 7.45140910e-02],\n",
       "       [5.91431126e-06, 3.75948730e-04, 3.13122546e-05, 9.98416305e-01,\n",
       "        5.24131622e-07, 9.71121553e-05, 9.83620877e-04, 8.93350807e-05],\n",
       "       [3.70618999e-01, 9.38115492e-02, 2.26263283e-03, 9.35145244e-02,\n",
       "        9.79962078e-06, 2.59561487e-03, 4.33254212e-01, 3.93272145e-03]],\n",
       "      dtype=float32)"
      ]
     },
     "execution_count": 245,
     "metadata": {},
     "output_type": "execute_result"
    }
   ],
   "source": [
    "p"
   ]
  },
  {
   "cell_type": "code",
   "execution_count": 290,
   "metadata": {},
   "outputs": [],
   "source": [
    "m2=model.predict_classes(X_test)"
   ]
  },
  {
   "cell_type": "code",
   "execution_count": 291,
   "metadata": {},
   "outputs": [
    {
     "data": {
      "text/plain": [
       "array([6, 7, 7, 1, 3, 4, 6, 0, 2, 3, 5, 3, 2, 7, 7, 6, 3, 5, 2, 7, 7, 7,\n",
       "       2, 2, 5, 2, 1, 7, 6, 1, 6, 5, 2, 1, 7, 7, 2, 7, 5, 5, 2, 3, 3, 7,\n",
       "       6, 3, 6, 5, 3, 6, 7, 0, 3, 6, 6, 4, 3, 2, 6, 5, 3, 0, 3, 3, 7, 1,\n",
       "       6, 0, 3, 0, 2, 3, 1], dtype=int64)"
      ]
     },
     "execution_count": 291,
     "metadata": {},
     "output_type": "execute_result"
    }
   ],
   "source": [
    "m2"
   ]
  },
  {
   "cell_type": "code",
   "execution_count": null,
   "metadata": {},
   "outputs": [],
   "source": []
  },
  {
   "cell_type": "code",
   "execution_count": 149,
   "metadata": {},
   "outputs": [],
   "source": [
    " a = np.array(p)"
   ]
  },
  {
   "cell_type": "code",
   "execution_count": 150,
   "metadata": {},
   "outputs": [],
   "source": [
    "b=(a == a.max(axis=1)[:,None]).astype(int)"
   ]
  },
  {
   "cell_type": "code",
   "execution_count": null,
   "metadata": {},
   "outputs": [],
   "source": []
  },
  {
   "cell_type": "code",
   "execution_count": null,
   "metadata": {},
   "outputs": [],
   "source": []
  },
  {
   "cell_type": "code",
   "execution_count": 300,
   "metadata": {},
   "outputs": [],
   "source": [
    "#label_encoder.inverse_transform(b)"
   ]
  },
  {
   "cell_type": "code",
   "execution_count": 154,
   "metadata": {},
   "outputs": [
    {
     "data": {
      "text/plain": [
       "(73, 8)"
      ]
     },
     "execution_count": 154,
     "metadata": {},
     "output_type": "execute_result"
    }
   ],
   "source": [
    "b.shape"
   ]
  },
  {
   "cell_type": "code",
   "execution_count": 155,
   "metadata": {},
   "outputs": [
    {
     "data": {
      "text/plain": [
       "(364, 8)"
      ]
     },
     "execution_count": 155,
     "metadata": {},
     "output_type": "execute_result"
    }
   ],
   "source": [
    "y1.shape"
   ]
  },
  {
   "cell_type": "code",
   "execution_count": 158,
   "metadata": {},
   "outputs": [],
   "source": [
    "l=numpy.argmax(b, axis=1)"
   ]
  },
  {
   "cell_type": "code",
   "execution_count": 157,
   "metadata": {},
   "outputs": [],
   "source": [
    "import numpy"
   ]
  },
  {
   "cell_type": "code",
   "execution_count": 159,
   "metadata": {},
   "outputs": [
    {
     "data": {
      "text/plain": [
       "array([2, 1, 7, 1, 4, 4, 3, 0, 2, 3, 5, 3, 2, 7, 5, 6, 1, 2, 2, 2, 2, 2,\n",
       "       2, 2, 2, 2, 3, 7, 6, 2, 6, 3, 2, 1, 3, 3, 2, 5, 5, 2, 2, 3, 3, 2,\n",
       "       2, 3, 6, 5, 2, 2, 7, 0, 6, 6, 2, 4, 3, 2, 6, 3, 4, 0, 2, 3, 7, 3,\n",
       "       6, 6, 3, 0, 2, 3, 1], dtype=int64)"
      ]
     },
     "execution_count": 159,
     "metadata": {},
     "output_type": "execute_result"
    }
   ],
   "source": [
    "l"
   ]
  },
  {
   "cell_type": "code",
   "execution_count": 292,
   "metadata": {},
   "outputs": [],
   "source": [
    "z=label_encoder.inverse_transform(m2)"
   ]
  },
  {
   "cell_type": "code",
   "execution_count": 293,
   "metadata": {},
   "outputs": [
    {
     "data": {
      "text/plain": [
       "array(['odissi', 'sattriya', 'sattriya', 'kathak', 'kuchipudi',\n",
       "       'manipuri', 'odissi', 'bharatanatyam', 'kathakali', 'kuchipudi',\n",
       "       'mohiniyattam', 'kuchipudi', 'kathakali', 'sattriya', 'sattriya',\n",
       "       'odissi', 'kuchipudi', 'mohiniyattam', 'kathakali', 'sattriya',\n",
       "       'sattriya', 'sattriya', 'kathakali', 'kathakali', 'mohiniyattam',\n",
       "       'kathakali', 'kathak', 'sattriya', 'odissi', 'kathak', 'odissi',\n",
       "       'mohiniyattam', 'kathakali', 'kathak', 'sattriya', 'sattriya',\n",
       "       'kathakali', 'sattriya', 'mohiniyattam', 'mohiniyattam',\n",
       "       'kathakali', 'kuchipudi', 'kuchipudi', 'sattriya', 'odissi',\n",
       "       'kuchipudi', 'odissi', 'mohiniyattam', 'kuchipudi', 'odissi',\n",
       "       'sattriya', 'bharatanatyam', 'kuchipudi', 'odissi', 'odissi',\n",
       "       'manipuri', 'kuchipudi', 'kathakali', 'odissi', 'mohiniyattam',\n",
       "       'kuchipudi', 'bharatanatyam', 'kuchipudi', 'kuchipudi', 'sattriya',\n",
       "       'kathak', 'odissi', 'bharatanatyam', 'kuchipudi', 'bharatanatyam',\n",
       "       'kathakali', 'kuchipudi', 'kathak'], dtype=object)"
      ]
     },
     "execution_count": 293,
     "metadata": {},
     "output_type": "execute_result"
    }
   ],
   "source": [
    "z"
   ]
  },
  {
   "cell_type": "code",
   "execution_count": 294,
   "metadata": {},
   "outputs": [],
   "source": [
    "p2=label_encoder.inverse_transform(numpy.argmax(y_test, axis=1))"
   ]
  },
  {
   "cell_type": "code",
   "execution_count": 295,
   "metadata": {},
   "outputs": [
    {
     "data": {
      "text/plain": [
       "array(['odissi', 'sattriya', 'odissi', 'kathak', 'manipuri', 'manipuri',\n",
       "       'kathak', 'bharatanatyam', 'kathak', 'bharatanatyam',\n",
       "       'mohiniyattam', 'odissi', 'kathakali', 'sattriya', 'bharatanatyam',\n",
       "       'manipuri', 'manipuri', 'kathakali', 'kathakali', 'mohiniyattam',\n",
       "       'kuchipudi', 'sattriya', 'kathakali', 'mohiniyattam', 'kathakali',\n",
       "       'kathakali', 'kathak', 'mohiniyattam', 'manipuri', 'mohiniyattam',\n",
       "       'odissi', 'kuchipudi', 'manipuri', 'kathak', 'bharatanatyam',\n",
       "       'mohiniyattam', 'kathakali', 'kuchipudi', 'odissi', 'odissi',\n",
       "       'kathakali', 'kuchipudi', 'kathakali', 'mohiniyattam', 'odissi',\n",
       "       'kathakali', 'odissi', 'mohiniyattam', 'kathak', 'odissi',\n",
       "       'kathak', 'bharatanatyam', 'bharatanatyam', 'odissi', 'odissi',\n",
       "       'manipuri', 'kuchipudi', 'kathakali', 'odissi', 'kuchipudi',\n",
       "       'sattriya', 'bharatanatyam', 'odissi', 'kathak', 'sattriya',\n",
       "       'kathak', 'kathak', 'bharatanatyam', 'odissi', 'bharatanatyam',\n",
       "       'bharatanatyam', 'odissi', 'kuchipudi'], dtype=object)"
      ]
     },
     "execution_count": 295,
     "metadata": {},
     "output_type": "execute_result"
    }
   ],
   "source": [
    "p2"
   ]
  },
  {
   "cell_type": "code",
   "execution_count": 296,
   "metadata": {},
   "outputs": [],
   "source": [
    "from sklearn.metrics import accuracy_score"
   ]
  },
  {
   "cell_type": "code",
   "execution_count": 297,
   "metadata": {},
   "outputs": [
    {
     "data": {
      "text/plain": [
       "0.4657534246575342"
      ]
     },
     "execution_count": 297,
     "metadata": {},
     "output_type": "execute_result"
    }
   ],
   "source": [
    "accuracy_score(p2,z )"
   ]
  },
  {
   "cell_type": "code",
   "execution_count": 301,
   "metadata": {},
   "outputs": [],
   "source": [
    "import cv2"
   ]
  },
  {
   "cell_type": "code",
   "execution_count": 183,
   "metadata": {},
   "outputs": [],
   "source": [
    "import glob\n",
    "import cv2\n",
    "import numpy as np\n",
    "pic_num=1\n",
    "IMG_DIR=data_dir\n",
    "def read_images(directory):\n",
    "    for img in glob.glob(directory+\"/*.jpg\"):\n",
    "        image = cv2.imread(img)\n",
    "        image=cv2.cvtColor(image, cv2.COLOR_BGR2RGB)\n",
    "        resized_img = cv2.resize(image/255.0  , (32 , 32))\n",
    "        #cv2.imwrite(\"small/\"+str(pic_num)+'.jpg',resized_img)\n",
    "\n",
    "        yield resized_img\n",
    "\n",
    "resized_imgs =  np.array(list(read_images(IMG_DIR)))"
   ]
  },
  {
   "cell_type": "code",
   "execution_count": 184,
   "metadata": {},
   "outputs": [],
   "source": [
    "resized_imgs=X"
   ]
  },
  {
   "cell_type": "code",
   "execution_count": 185,
   "metadata": {},
   "outputs": [
    {
     "data": {
      "text/plain": [
       "(364, 128, 128, 3)"
      ]
     },
     "execution_count": 185,
     "metadata": {},
     "output_type": "execute_result"
    }
   ],
   "source": [
    "resized_imgs.shape"
   ]
  },
  {
   "cell_type": "code",
   "execution_count": 124,
   "metadata": {},
   "outputs": [
    {
     "data": {
      "text/plain": [
       "array([[[[0.00392157, 0.00392157, 0.00392157],\n",
       "         [0.00392157, 0.00392157, 0.00392157],\n",
       "         [0.00392157, 0.00392157, 0.00392157],\n",
       "         ...,\n",
       "         [0.00392157, 0.00392157, 0.00392157],\n",
       "         [0.00392157, 0.00392157, 0.00392157],\n",
       "         [0.00392157, 0.00392157, 0.00392157]],\n",
       "\n",
       "        [[0.00392157, 0.00392157, 0.00392157],\n",
       "         [0.00392157, 0.00392157, 0.00392157],\n",
       "         [0.00392157, 0.00392157, 0.00392157],\n",
       "         ...,\n",
       "         [0.00392157, 0.00392157, 0.00392157],\n",
       "         [0.00392157, 0.00392157, 0.00392157],\n",
       "         [0.00392157, 0.00392157, 0.00392157]],\n",
       "\n",
       "        [[0.00392157, 0.00392157, 0.00392157],\n",
       "         [0.00392157, 0.00392157, 0.00392157],\n",
       "         [0.00392157, 0.00392157, 0.00392157],\n",
       "         ...,\n",
       "         [0.00392157, 0.00392157, 0.00392157],\n",
       "         [0.00392157, 0.00392157, 0.00392157],\n",
       "         [0.00392157, 0.00392157, 0.00392157]],\n",
       "\n",
       "        ...,\n",
       "\n",
       "        [[0.05490196, 0.03137255, 0.03137255],\n",
       "         [0.07058824, 0.03529412, 0.03921569],\n",
       "         [0.07843138, 0.04705882, 0.03921569],\n",
       "         ...,\n",
       "         [0.30588236, 0.21176471, 0.16470589],\n",
       "         [0.29803923, 0.20392157, 0.15686275],\n",
       "         [0.30980393, 0.20392157, 0.16078432]],\n",
       "\n",
       "        [[0.06666667, 0.03137255, 0.03529412],\n",
       "         [0.07058824, 0.03529412, 0.03921569],\n",
       "         [0.08235294, 0.05098039, 0.04313726],\n",
       "         ...,\n",
       "         [0.34117648, 0.24705882, 0.2       ],\n",
       "         [0.32941177, 0.23529412, 0.1882353 ],\n",
       "         [0.34117648, 0.23529412, 0.19215687]],\n",
       "\n",
       "        [[0.04313726, 0.02352941, 0.01176471],\n",
       "         [0.05098039, 0.01960784, 0.01176471],\n",
       "         [0.05882353, 0.02745098, 0.01960784],\n",
       "         ...,\n",
       "         [0.34509805, 0.23921569, 0.19607843],\n",
       "         [0.27450982, 0.16862746, 0.1254902 ],\n",
       "         [0.2901961 , 0.18431373, 0.14117648]]],\n",
       "\n",
       "\n",
       "       [[[0.03529412, 0.03137255, 0.0627451 ],\n",
       "         [0.03921569, 0.03529412, 0.06666667],\n",
       "         [0.03921569, 0.03529412, 0.06666667],\n",
       "         ...,\n",
       "         [0.03921569, 0.03529412, 0.06666667],\n",
       "         [0.05098039, 0.02352941, 0.05490196],\n",
       "         [0.05490196, 0.01568628, 0.05098039]],\n",
       "\n",
       "        [[0.03529412, 0.03137255, 0.0627451 ],\n",
       "         [0.03921569, 0.03529412, 0.06666667],\n",
       "         [0.04313726, 0.03921569, 0.07058824],\n",
       "         ...,\n",
       "         [0.03921569, 0.03529412, 0.06666667],\n",
       "         [0.05098039, 0.02352941, 0.05490196],\n",
       "         [0.05490196, 0.01568628, 0.05098039]],\n",
       "\n",
       "        [[0.03921569, 0.03529412, 0.06666667],\n",
       "         [0.04313726, 0.03921569, 0.07058824],\n",
       "         [0.04313726, 0.03921569, 0.07058824],\n",
       "         ...,\n",
       "         [0.03921569, 0.03529412, 0.06666667],\n",
       "         [0.05098039, 0.02352941, 0.05490196],\n",
       "         [0.05490196, 0.01568628, 0.05098039]],\n",
       "\n",
       "        ...,\n",
       "\n",
       "        [[0.11372549, 0.07058824, 0.08627451],\n",
       "         [0.11372549, 0.07058824, 0.08627451],\n",
       "         [0.11372549, 0.07058824, 0.08627451],\n",
       "         ...,\n",
       "         [0.16470589, 0.03529412, 0.11764706],\n",
       "         [0.22352941, 0.13333334, 0.19607843],\n",
       "         [0.20392157, 0.13333334, 0.18039216]],\n",
       "\n",
       "        [[0.10588235, 0.0627451 , 0.07843138],\n",
       "         [0.10588235, 0.0627451 , 0.07843138],\n",
       "         [0.10588235, 0.0627451 , 0.07843138],\n",
       "         ...,\n",
       "         [0.14901961, 0.02352941, 0.10588235],\n",
       "         [0.20392157, 0.11372549, 0.1764706 ],\n",
       "         [0.17254902, 0.10196079, 0.14901961]],\n",
       "\n",
       "        [[0.09803922, 0.05490196, 0.07058824],\n",
       "         [0.09803922, 0.05490196, 0.07058824],\n",
       "         [0.09803922, 0.05490196, 0.07058824],\n",
       "         ...,\n",
       "         [0.14901961, 0.03529412, 0.11372549],\n",
       "         [0.20784314, 0.1254902 , 0.18431373],\n",
       "         [0.17254902, 0.10196079, 0.14901961]]],\n",
       "\n",
       "\n",
       "       [[[0.07450981, 0.05882353, 0.04705882],\n",
       "         [0.08235294, 0.06666667, 0.05490196],\n",
       "         [0.08235294, 0.06666667, 0.05490196],\n",
       "         ...,\n",
       "         [0.07058824, 0.05490196, 0.04313726],\n",
       "         [0.07058824, 0.05490196, 0.04313726],\n",
       "         [0.07058824, 0.05490196, 0.04313726]],\n",
       "\n",
       "        [[0.07450981, 0.05882353, 0.04705882],\n",
       "         [0.08235294, 0.06666667, 0.05490196],\n",
       "         [0.08235294, 0.06666667, 0.05490196],\n",
       "         ...,\n",
       "         [0.07058824, 0.05490196, 0.04313726],\n",
       "         [0.07058824, 0.05490196, 0.04313726],\n",
       "         [0.06666667, 0.05098039, 0.03921569]],\n",
       "\n",
       "        [[0.07450981, 0.05882353, 0.04705882],\n",
       "         [0.08235294, 0.06666667, 0.05490196],\n",
       "         [0.08235294, 0.06666667, 0.05490196],\n",
       "         ...,\n",
       "         [0.07058824, 0.05490196, 0.04313726],\n",
       "         [0.07058824, 0.05490196, 0.04313726],\n",
       "         [0.07058824, 0.05490196, 0.04313726]],\n",
       "\n",
       "        ...,\n",
       "\n",
       "        [[0.05098039, 0.04705882, 0.03921569],\n",
       "         [0.05098039, 0.04705882, 0.03921569],\n",
       "         [0.05098039, 0.04705882, 0.03921569],\n",
       "         ...,\n",
       "         [0.03137255, 0.02745098, 0.01960784],\n",
       "         [0.02745098, 0.02352941, 0.01568628],\n",
       "         [0.03137255, 0.02745098, 0.01960784]],\n",
       "\n",
       "        [[0.04705882, 0.04313726, 0.03529412],\n",
       "         [0.05098039, 0.04705882, 0.03921569],\n",
       "         [0.04705882, 0.04313726, 0.03529412],\n",
       "         ...,\n",
       "         [0.03137255, 0.02745098, 0.01960784],\n",
       "         [0.02745098, 0.02352941, 0.01568628],\n",
       "         [0.03137255, 0.02745098, 0.01960784]],\n",
       "\n",
       "        [[0.04313726, 0.03921569, 0.03137255],\n",
       "         [0.04705882, 0.04313726, 0.03529412],\n",
       "         [0.03921569, 0.03529412, 0.02745098],\n",
       "         ...,\n",
       "         [0.03137255, 0.02745098, 0.01960784],\n",
       "         [0.03137255, 0.02745098, 0.01960784],\n",
       "         [0.02745098, 0.02352941, 0.01568628]]],\n",
       "\n",
       "\n",
       "       ...,\n",
       "\n",
       "\n",
       "       [[[0.96862745, 0.96862745, 0.96862745],\n",
       "         [0.96862745, 0.96862745, 0.96862745],\n",
       "         [0.96862745, 0.96862745, 0.96862745],\n",
       "         ...,\n",
       "         [0.96862745, 0.96862745, 0.96862745],\n",
       "         [0.96862745, 0.96862745, 0.96862745],\n",
       "         [0.96862745, 0.96862745, 0.96862745]],\n",
       "\n",
       "        [[0.96862745, 0.96862745, 0.96862745],\n",
       "         [0.96862745, 0.96862745, 0.96862745],\n",
       "         [0.96862745, 0.96862745, 0.96862745],\n",
       "         ...,\n",
       "         [0.96862745, 0.96862745, 0.96862745],\n",
       "         [0.96862745, 0.96862745, 0.96862745],\n",
       "         [0.96862745, 0.96862745, 0.96862745]],\n",
       "\n",
       "        [[0.96862745, 0.96862745, 0.96862745],\n",
       "         [0.96862745, 0.96862745, 0.96862745],\n",
       "         [0.96862745, 0.96862745, 0.96862745],\n",
       "         ...,\n",
       "         [0.96862745, 0.96862745, 0.96862745],\n",
       "         [0.96862745, 0.96862745, 0.96862745],\n",
       "         [0.96862745, 0.96862745, 0.96862745]],\n",
       "\n",
       "        ...,\n",
       "\n",
       "        [[0.96862745, 0.96862745, 0.96862745],\n",
       "         [0.96862745, 0.96862745, 0.96862745],\n",
       "         [0.96862745, 0.96862745, 0.96862745],\n",
       "         ...,\n",
       "         [0.96862745, 0.96862745, 0.96862745],\n",
       "         [0.96862745, 0.96862745, 0.96862745],\n",
       "         [0.96862745, 0.96862745, 0.96862745]],\n",
       "\n",
       "        [[0.96862745, 0.96862745, 0.96862745],\n",
       "         [0.96862745, 0.96862745, 0.96862745],\n",
       "         [0.96862745, 0.96862745, 0.96862745],\n",
       "         ...,\n",
       "         [0.96862745, 0.96862745, 0.96862745],\n",
       "         [0.96862745, 0.96862745, 0.96862745],\n",
       "         [0.96862745, 0.96862745, 0.96862745]],\n",
       "\n",
       "        [[0.96862745, 0.96862745, 0.96862745],\n",
       "         [0.96862745, 0.96862745, 0.96862745],\n",
       "         [0.96862745, 0.96862745, 0.96862745],\n",
       "         ...,\n",
       "         [0.96862745, 0.96862745, 0.96862745],\n",
       "         [0.96862745, 0.96862745, 0.96862745],\n",
       "         [0.96862745, 0.96862745, 0.96862745]]],\n",
       "\n",
       "\n",
       "       [[[0.0627451 , 0.02745098, 0.03921569],\n",
       "         [0.07843138, 0.04313726, 0.05490196],\n",
       "         [0.08235294, 0.04705882, 0.05882353],\n",
       "         ...,\n",
       "         [0.04313726, 0.04313726, 0.04313726],\n",
       "         [0.04313726, 0.04313726, 0.04313726],\n",
       "         [0.04705882, 0.04705882, 0.04705882]],\n",
       "\n",
       "        [[0.07450981, 0.03921569, 0.05098039],\n",
       "         [0.07058824, 0.03529412, 0.04705882],\n",
       "         [0.08235294, 0.04705882, 0.05882353],\n",
       "         ...,\n",
       "         [0.04313726, 0.04313726, 0.04313726],\n",
       "         [0.04313726, 0.04313726, 0.04313726],\n",
       "         [0.04313726, 0.04313726, 0.04313726]],\n",
       "\n",
       "        [[0.05882353, 0.02352941, 0.03529412],\n",
       "         [0.08235294, 0.04705882, 0.05882353],\n",
       "         [0.08235294, 0.04705882, 0.05882353],\n",
       "         ...,\n",
       "         [0.04313726, 0.04313726, 0.04313726],\n",
       "         [0.04313726, 0.04313726, 0.04313726],\n",
       "         [0.03921569, 0.03921569, 0.03921569]],\n",
       "\n",
       "        ...,\n",
       "\n",
       "        [[0.57254905, 0.2509804 , 0.29803923],\n",
       "         [0.5647059 , 0.24705882, 0.27450982],\n",
       "         [0.69411767, 0.38039216, 0.39215687],\n",
       "         ...,\n",
       "         [0.69803923, 0.47843137, 0.3882353 ],\n",
       "         [0.7529412 , 0.5529412 , 0.47843137],\n",
       "         [0.78431374, 0.57254905, 0.47058824]],\n",
       "\n",
       "        [[0.9607843 , 0.7921569 , 0.7294118 ],\n",
       "         [0.95686275, 0.7882353 , 0.72156864],\n",
       "         [0.9647059 , 0.8       , 0.7137255 ],\n",
       "         ...,\n",
       "         [0.7411765 , 0.5019608 , 0.38039216],\n",
       "         [0.7607843 , 0.5254902 , 0.41568628],\n",
       "         [0.8666667 , 0.58431375, 0.43529412]],\n",
       "\n",
       "        [[0.3882353 , 0.15686275, 0.14117648],\n",
       "         [0.39215687, 0.16078432, 0.13725491],\n",
       "         [0.40392157, 0.1764706 , 0.13333334],\n",
       "         ...,\n",
       "         [0.7294118 , 0.48235294, 0.34509805],\n",
       "         [0.8235294 , 0.5647059 , 0.43137255],\n",
       "         [0.8352941 , 0.59607846, 0.4862745 ]]],\n",
       "\n",
       "\n",
       "       [[[0.        , 0.        , 0.        ],\n",
       "         [0.        , 0.        , 0.        ],\n",
       "         [0.        , 0.        , 0.        ],\n",
       "         ...,\n",
       "         [0.        , 0.        , 0.        ],\n",
       "         [0.        , 0.        , 0.        ],\n",
       "         [0.        , 0.        , 0.        ]],\n",
       "\n",
       "        [[0.        , 0.        , 0.        ],\n",
       "         [0.        , 0.        , 0.        ],\n",
       "         [0.        , 0.        , 0.        ],\n",
       "         ...,\n",
       "         [0.        , 0.        , 0.        ],\n",
       "         [0.        , 0.        , 0.        ],\n",
       "         [0.        , 0.        , 0.        ]],\n",
       "\n",
       "        [[0.        , 0.        , 0.        ],\n",
       "         [0.        , 0.        , 0.        ],\n",
       "         [0.        , 0.        , 0.        ],\n",
       "         ...,\n",
       "         [0.        , 0.        , 0.        ],\n",
       "         [0.        , 0.        , 0.        ],\n",
       "         [0.        , 0.        , 0.        ]],\n",
       "\n",
       "        ...,\n",
       "\n",
       "        [[0.23921569, 0.3254902 , 0.24313726],\n",
       "         [0.21568628, 0.3019608 , 0.21960784],\n",
       "         [0.20392157, 0.2901961 , 0.20784314],\n",
       "         ...,\n",
       "         [0.30588236, 0.25490198, 0.1882353 ],\n",
       "         [0.2784314 , 0.22745098, 0.16078432],\n",
       "         [0.2901961 , 0.23921569, 0.17254902]],\n",
       "\n",
       "        [[0.27450982, 0.33333334, 0.25882354],\n",
       "         [0.28627452, 0.34509805, 0.27058825],\n",
       "         [0.33333334, 0.39215687, 0.31764707],\n",
       "         ...,\n",
       "         [0.30588236, 0.23921569, 0.16862746],\n",
       "         [0.27058825, 0.20392157, 0.13333334],\n",
       "         [0.3019608 , 0.23529412, 0.16470589]],\n",
       "\n",
       "        [[0.2784314 , 0.32941177, 0.25882354],\n",
       "         [0.26666668, 0.31764707, 0.24705882],\n",
       "         [0.25490198, 0.30588236, 0.23529412],\n",
       "         ...,\n",
       "         [0.24705882, 0.17254902, 0.10588235],\n",
       "         [0.2627451 , 0.1882353 , 0.12156863],\n",
       "         [0.25882354, 0.18431373, 0.11764706]]]], dtype=float32)"
      ]
     },
     "execution_count": 124,
     "metadata": {},
     "output_type": "execute_result"
    }
   ],
   "source": [
    "resized_imgs"
   ]
  },
  {
   "cell_type": "code",
   "execution_count": 312,
   "metadata": {},
   "outputs": [
    {
     "data": {
      "text/plain": [
       "array([[[[0.00392157, 0.00392157, 0.00392157],\n",
       "         [0.00392157, 0.00392157, 0.00392157],\n",
       "         [0.00392157, 0.00392157, 0.00392157],\n",
       "         ...,\n",
       "         [0.00392157, 0.00392157, 0.00392157],\n",
       "         [0.00392157, 0.00392157, 0.00392157],\n",
       "         [0.00392157, 0.00392157, 0.00392157]],\n",
       "\n",
       "        [[0.00392157, 0.00392157, 0.00392157],\n",
       "         [0.00392157, 0.00392157, 0.00392157],\n",
       "         [0.00392157, 0.00392157, 0.00392157],\n",
       "         ...,\n",
       "         [0.00392157, 0.00392157, 0.00392157],\n",
       "         [0.00392157, 0.00392157, 0.00392157],\n",
       "         [0.00392157, 0.00392157, 0.00392157]],\n",
       "\n",
       "        [[0.00392157, 0.00392157, 0.00392157],\n",
       "         [0.00392157, 0.00392157, 0.00392157],\n",
       "         [0.00392157, 0.00392157, 0.00392157],\n",
       "         ...,\n",
       "         [0.00784314, 0.00784314, 0.00784314],\n",
       "         [0.00784314, 0.00784314, 0.00784314],\n",
       "         [0.00784314, 0.00784314, 0.00784314]],\n",
       "\n",
       "        ...,\n",
       "\n",
       "        [[0.04705882, 0.03137255, 0.02745098],\n",
       "         [0.06666667, 0.04705882, 0.03529412],\n",
       "         [0.08235294, 0.05098039, 0.03921569],\n",
       "         ...,\n",
       "         [0.34117648, 0.25490198, 0.21176471],\n",
       "         [0.34117648, 0.25490198, 0.21176471],\n",
       "         [0.3647059 , 0.2784314 , 0.23529412]],\n",
       "\n",
       "        [[0.05490196, 0.03137255, 0.03137255],\n",
       "         [0.07843138, 0.04705882, 0.03921569],\n",
       "         [0.11372549, 0.07450981, 0.06666667],\n",
       "         ...,\n",
       "         [0.32156864, 0.23529412, 0.18431373],\n",
       "         [0.34117648, 0.25490198, 0.20392157],\n",
       "         [0.2627451 , 0.1764706 , 0.1254902 ]],\n",
       "\n",
       "        [[0.07058824, 0.03529412, 0.03921569],\n",
       "         [0.08627451, 0.05490196, 0.04705882],\n",
       "         [0.09803922, 0.05490196, 0.04705882],\n",
       "         ...,\n",
       "         [0.39215687, 0.29803923, 0.2509804 ],\n",
       "         [0.40784314, 0.3137255 , 0.26666668],\n",
       "         [0.29803923, 0.20392157, 0.15686275]]],\n",
       "\n",
       "\n",
       "       [[[0.03529412, 0.03137255, 0.0627451 ],\n",
       "         [0.04313726, 0.03921569, 0.07058824],\n",
       "         [0.05490196, 0.05098039, 0.08235294],\n",
       "         ...,\n",
       "         [0.0627451 , 0.05882353, 0.09019608],\n",
       "         [0.04313726, 0.03921569, 0.07058824],\n",
       "         [0.05882353, 0.01960784, 0.05490196]],\n",
       "\n",
       "        [[0.04313726, 0.03921569, 0.07058824],\n",
       "         [0.04705882, 0.04313726, 0.07450981],\n",
       "         [0.05490196, 0.05098039, 0.08235294],\n",
       "         ...,\n",
       "         [0.0627451 , 0.05882353, 0.09019608],\n",
       "         [0.04313726, 0.03921569, 0.07058824],\n",
       "         [0.05098039, 0.02352941, 0.05490196]],\n",
       "\n",
       "        [[0.04705882, 0.04313726, 0.07450981],\n",
       "         [0.05098039, 0.04705882, 0.07843138],\n",
       "         [0.05490196, 0.05098039, 0.08235294],\n",
       "         ...,\n",
       "         [0.0627451 , 0.05882353, 0.09019608],\n",
       "         [0.04313726, 0.03921569, 0.07058824],\n",
       "         [0.05098039, 0.02352941, 0.05490196]],\n",
       "\n",
       "        ...,\n",
       "\n",
       "        [[0.1254902 , 0.08235294, 0.10588235],\n",
       "         [0.1254902 , 0.08235294, 0.10588235],\n",
       "         [0.13333334, 0.09019608, 0.11372549],\n",
       "         ...,\n",
       "         [0.19607843, 0.10980392, 0.15686275],\n",
       "         [0.2509804 , 0.11764706, 0.18039216],\n",
       "         [0.21960784, 0.14901961, 0.14117648]],\n",
       "\n",
       "        [[0.11764706, 0.07450981, 0.09019608],\n",
       "         [0.11764706, 0.07450981, 0.09803922],\n",
       "         [0.11764706, 0.07450981, 0.10588235],\n",
       "         ...,\n",
       "         [0.23137255, 0.13725491, 0.19215687],\n",
       "         [0.2       , 0.07058824, 0.15294118],\n",
       "         [0.21568628, 0.14509805, 0.19215687]],\n",
       "\n",
       "        [[0.10196079, 0.05882353, 0.07450981],\n",
       "         [0.10196079, 0.05882353, 0.08235294],\n",
       "         [0.10980392, 0.06666667, 0.09803922],\n",
       "         ...,\n",
       "         [0.2       , 0.12156863, 0.16862746],\n",
       "         [0.16078432, 0.04705882, 0.1254902 ],\n",
       "         [0.21568628, 0.14509805, 0.19215687]]],\n",
       "\n",
       "\n",
       "       [[[0.07843138, 0.0627451 , 0.05098039],\n",
       "         [0.08235294, 0.06666667, 0.05490196],\n",
       "         [0.08235294, 0.06666667, 0.05490196],\n",
       "         ...,\n",
       "         [0.07058824, 0.05490196, 0.04313726],\n",
       "         [0.07058824, 0.05490196, 0.04313726],\n",
       "         [0.07058824, 0.05490196, 0.04313726]],\n",
       "\n",
       "        [[0.07843138, 0.0627451 , 0.05098039],\n",
       "         [0.08235294, 0.06666667, 0.05490196],\n",
       "         [0.08235294, 0.06666667, 0.05490196],\n",
       "         ...,\n",
       "         [0.07058824, 0.05490196, 0.04313726],\n",
       "         [0.07058824, 0.05490196, 0.04313726],\n",
       "         [0.07058824, 0.05490196, 0.04313726]],\n",
       "\n",
       "        [[0.08235294, 0.06666667, 0.05490196],\n",
       "         [0.08627451, 0.07058824, 0.05882353],\n",
       "         [0.08235294, 0.06666667, 0.05490196],\n",
       "         ...,\n",
       "         [0.07450981, 0.05882353, 0.04705882],\n",
       "         [0.07058824, 0.05490196, 0.04313726],\n",
       "         [0.07058824, 0.05490196, 0.04313726]],\n",
       "\n",
       "        ...,\n",
       "\n",
       "        [[0.05882353, 0.04313726, 0.03137255],\n",
       "         [0.05882353, 0.04313726, 0.03137255],\n",
       "         [0.05490196, 0.03921569, 0.02745098],\n",
       "         ...,\n",
       "         [0.03529412, 0.03137255, 0.02352941],\n",
       "         [0.03137255, 0.02745098, 0.01960784],\n",
       "         [0.03137255, 0.02745098, 0.01960784]],\n",
       "\n",
       "        [[0.05490196, 0.05098039, 0.04313726],\n",
       "         [0.05098039, 0.04705882, 0.03921569],\n",
       "         [0.05098039, 0.04705882, 0.03921569],\n",
       "         ...,\n",
       "         [0.03529412, 0.03137255, 0.02352941],\n",
       "         [0.03137255, 0.02745098, 0.01960784],\n",
       "         [0.02745098, 0.02352941, 0.01568628]],\n",
       "\n",
       "        [[0.05098039, 0.04705882, 0.03921569],\n",
       "         [0.04313726, 0.03921569, 0.03137255],\n",
       "         [0.05098039, 0.04705882, 0.03921569],\n",
       "         ...,\n",
       "         [0.03137255, 0.02745098, 0.01960784],\n",
       "         [0.03137255, 0.02745098, 0.01960784],\n",
       "         [0.03137255, 0.02745098, 0.01960784]]],\n",
       "\n",
       "\n",
       "       ...,\n",
       "\n",
       "\n",
       "       [[[0.96862745, 0.96862745, 0.96862745],\n",
       "         [0.96862745, 0.96862745, 0.96862745],\n",
       "         [0.96862745, 0.96862745, 0.96862745],\n",
       "         ...,\n",
       "         [0.96862745, 0.96862745, 0.96862745],\n",
       "         [0.96862745, 0.96862745, 0.96862745],\n",
       "         [0.96862745, 0.96862745, 0.96862745]],\n",
       "\n",
       "        [[0.96862745, 0.96862745, 0.96862745],\n",
       "         [0.96862745, 0.96862745, 0.96862745],\n",
       "         [0.96862745, 0.96862745, 0.96862745],\n",
       "         ...,\n",
       "         [0.96862745, 0.96862745, 0.96862745],\n",
       "         [0.96862745, 0.96862745, 0.96862745],\n",
       "         [0.96862745, 0.96862745, 0.96862745]],\n",
       "\n",
       "        [[0.96862745, 0.96862745, 0.96862745],\n",
       "         [0.96862745, 0.96862745, 0.96862745],\n",
       "         [0.96862745, 0.96862745, 0.96862745],\n",
       "         ...,\n",
       "         [0.96862745, 0.96862745, 0.96862745],\n",
       "         [0.96862745, 0.96862745, 0.96862745],\n",
       "         [0.96862745, 0.96862745, 0.96862745]],\n",
       "\n",
       "        ...,\n",
       "\n",
       "        [[0.96862745, 0.96862745, 0.96862745],\n",
       "         [0.96862745, 0.96862745, 0.96862745],\n",
       "         [0.96862745, 0.96862745, 0.96862745],\n",
       "         ...,\n",
       "         [0.96862745, 0.96862745, 0.96862745],\n",
       "         [0.96862745, 0.96862745, 0.96862745],\n",
       "         [0.96862745, 0.96862745, 0.96862745]],\n",
       "\n",
       "        [[0.96862745, 0.96862745, 0.96862745],\n",
       "         [0.96862745, 0.96862745, 0.96862745],\n",
       "         [0.96862745, 0.96862745, 0.96862745],\n",
       "         ...,\n",
       "         [0.96862745, 0.96862745, 0.96862745],\n",
       "         [0.96862745, 0.96862745, 0.96862745],\n",
       "         [0.96862745, 0.96862745, 0.96862745]],\n",
       "\n",
       "        [[0.96862745, 0.96862745, 0.96862745],\n",
       "         [0.96862745, 0.96862745, 0.96862745],\n",
       "         [0.96862745, 0.96862745, 0.96862745],\n",
       "         ...,\n",
       "         [0.96862745, 0.96862745, 0.96862745],\n",
       "         [0.96862745, 0.96862745, 0.96862745],\n",
       "         [0.96862745, 0.96862745, 0.96862745]]],\n",
       "\n",
       "\n",
       "       [[[0.07450981, 0.03921569, 0.05098039],\n",
       "         [0.08627451, 0.05098039, 0.0627451 ],\n",
       "         [0.11372549, 0.08235294, 0.1254902 ],\n",
       "         ...,\n",
       "         [0.04705882, 0.03921569, 0.04313726],\n",
       "         [0.04313726, 0.04313726, 0.04313726],\n",
       "         [0.04313726, 0.04313726, 0.04313726]],\n",
       "\n",
       "        [[0.07450981, 0.03921569, 0.05098039],\n",
       "         [0.07843138, 0.04313726, 0.05490196],\n",
       "         [0.1254902 , 0.07843138, 0.1254902 ],\n",
       "         ...,\n",
       "         [0.04705882, 0.03921569, 0.04313726],\n",
       "         [0.03529412, 0.03529412, 0.03529412],\n",
       "         [0.03921569, 0.03921569, 0.03921569]],\n",
       "\n",
       "        [[0.06666667, 0.04313726, 0.05098039],\n",
       "         [0.08627451, 0.0627451 , 0.07058824],\n",
       "         [0.16078432, 0.09803922, 0.14901961],\n",
       "         ...,\n",
       "         [0.04705882, 0.03921569, 0.04313726],\n",
       "         [0.03529412, 0.03529412, 0.03529412],\n",
       "         [0.05098039, 0.05098039, 0.05098039]],\n",
       "\n",
       "        ...,\n",
       "\n",
       "        [[0.63529414, 0.3137255 , 0.1254902 ],\n",
       "         [0.7647059 , 0.44313726, 0.22352941],\n",
       "         [0.8666667 , 0.5764706 , 0.32941177],\n",
       "         ...,\n",
       "         [0.19215687, 0.07058824, 0.14117648],\n",
       "         [0.21176471, 0.06666667, 0.09411765],\n",
       "         [0.654902  , 0.41960785, 0.3882353 ]],\n",
       "\n",
       "        [[0.79607844, 0.50980395, 0.38039216],\n",
       "         [0.8       , 0.52156866, 0.35686275],\n",
       "         [0.8235294 , 0.52156866, 0.35686275],\n",
       "         ...,\n",
       "         [0.7529412 , 0.50980395, 0.41960785],\n",
       "         [0.64705884, 0.4392157 , 0.36862746],\n",
       "         [0.30980393, 0.15294118, 0.11372549]],\n",
       "\n",
       "        [[0.93333334, 0.6509804 , 0.5529412 ],\n",
       "         [0.84705883, 0.57254905, 0.4392157 ],\n",
       "         [0.85490197, 0.59607846, 0.5019608 ],\n",
       "         ...,\n",
       "         [0.7882353 , 0.5568628 , 0.4       ],\n",
       "         [0.8       , 0.5647059 , 0.42352942],\n",
       "         [0.827451  , 0.56078434, 0.42352942]]],\n",
       "\n",
       "\n",
       "       [[[0.        , 0.        , 0.        ],\n",
       "         [0.        , 0.        , 0.        ],\n",
       "         [0.        , 0.        , 0.        ],\n",
       "         ...,\n",
       "         [0.        , 0.        , 0.        ],\n",
       "         [0.        , 0.        , 0.        ],\n",
       "         [0.        , 0.        , 0.        ]],\n",
       "\n",
       "        [[0.        , 0.        , 0.        ],\n",
       "         [0.        , 0.        , 0.        ],\n",
       "         [0.        , 0.        , 0.        ],\n",
       "         ...,\n",
       "         [0.        , 0.        , 0.        ],\n",
       "         [0.        , 0.        , 0.        ],\n",
       "         [0.        , 0.        , 0.        ]],\n",
       "\n",
       "        [[0.        , 0.        , 0.        ],\n",
       "         [0.        , 0.        , 0.        ],\n",
       "         [0.        , 0.        , 0.        ],\n",
       "         ...,\n",
       "         [0.        , 0.        , 0.        ],\n",
       "         [0.        , 0.        , 0.        ],\n",
       "         [0.        , 0.        , 0.        ]],\n",
       "\n",
       "        ...,\n",
       "\n",
       "        [[0.25882354, 0.3529412 , 0.26666668],\n",
       "         [0.22352941, 0.31764707, 0.23137255],\n",
       "         [0.25882354, 0.3529412 , 0.26666668],\n",
       "         ...,\n",
       "         [0.15686275, 0.16470589, 0.11372549],\n",
       "         [0.13333334, 0.13333334, 0.08627451],\n",
       "         [0.18431373, 0.18431373, 0.13725491]],\n",
       "\n",
       "        [[0.21176471, 0.30588236, 0.21960784],\n",
       "         [0.17254902, 0.26666668, 0.18039216],\n",
       "         [0.24313726, 0.3372549 , 0.2509804 ],\n",
       "         ...,\n",
       "         [0.26666668, 0.22352941, 0.15294118],\n",
       "         [0.25882354, 0.21568628, 0.14509805],\n",
       "         [0.29411766, 0.24313726, 0.1764706 ]],\n",
       "\n",
       "        [[0.23137255, 0.2901961 , 0.21568628],\n",
       "         [0.26666668, 0.3254902 , 0.2509804 ],\n",
       "         [0.2627451 , 0.32156864, 0.24705882],\n",
       "         ...,\n",
       "         [0.26666668, 0.20784314, 0.13333334],\n",
       "         [0.2627451 , 0.19607843, 0.1254902 ],\n",
       "         [0.3019608 , 0.22745098, 0.16078432]]]], dtype=float32)"
      ]
     },
     "execution_count": 312,
     "metadata": {},
     "output_type": "execute_result"
    }
   ],
   "source": [
    "X"
   ]
  },
  {
   "cell_type": "code",
   "execution_count": 149,
   "metadata": {},
   "outputs": [],
   "source": [
    "#test=pd.read_csv(test.csv)"
   ]
  },
  {
   "cell_type": "code",
   "execution_count": 105,
   "metadata": {},
   "outputs": [],
   "source": [
    "    model1 = Sequential()\n",
    "    # The first two layers with 32 filters of window size 3x3\n",
    "    model1.add(Conv2D(32, (3, 3), padding='same', activation='relu', input_shape=(128,128,3)))\n",
    "    model1.add(Conv2D(32, (3, 3), activation='relu'))\n",
    "    model1.add(MaxPooling2D(pool_size=(2, 2)))\n",
    "    model1.add(Dropout(0.25))\n",
    "\n",
    "    model1.add(Conv2D(64, (3, 3), padding='same', activation='relu'))\n",
    "    model1.add(Conv2D(64, (3, 3), activation='relu'))\n",
    "    model1.add(MaxPooling2D(pool_size=(2, 2)))\n",
    "    model1.add(Dropout(0.25))\n",
    "\n",
    "    model1.add(Conv2D(64, (3, 3), padding='same', activation='relu'))\n",
    "    model1.add(Conv2D(64, (3, 3), activation='relu'))\n",
    "    model1.add(MaxPooling2D(pool_size=(2, 2)))\n",
    "    model1.add(Dropout(0.25))\n",
    "\n",
    "    model1.add(Flatten())\n",
    "    model1.add(Dense(512, activation='relu'))\n",
    "    model1.add(Dropout(0.5))\n",
    "    model1.add(Dense(8, activation='softmax'))"
   ]
  },
  {
   "cell_type": "code",
   "execution_count": 106,
   "metadata": {},
   "outputs": [],
   "source": [
    "model1.compile(optimizer='adam', loss='categorical_crossentropy', metrics=['accuracy'])"
   ]
  },
  {
   "cell_type": "code",
   "execution_count": 113,
   "metadata": {},
   "outputs": [
    {
     "name": "stdout",
     "output_type": "stream",
     "text": [
      "Model: \"sequential_24\"\n",
      "_________________________________________________________________\n",
      "Layer (type)                 Output Shape              Param #   \n",
      "=================================================================\n",
      "conv2d_54 (Conv2D)           (None, 128, 128, 32)      896       \n",
      "_________________________________________________________________\n",
      "conv2d_55 (Conv2D)           (None, 126, 126, 32)      9248      \n",
      "_________________________________________________________________\n",
      "max_pooling2d_49 (MaxPooling (None, 63, 63, 32)        0         \n",
      "_________________________________________________________________\n",
      "dropout_41 (Dropout)         (None, 63, 63, 32)        0         \n",
      "_________________________________________________________________\n",
      "conv2d_56 (Conv2D)           (None, 63, 63, 64)        18496     \n",
      "_________________________________________________________________\n",
      "conv2d_57 (Conv2D)           (None, 61, 61, 64)        36928     \n",
      "_________________________________________________________________\n",
      "max_pooling2d_50 (MaxPooling (None, 30, 30, 64)        0         \n",
      "_________________________________________________________________\n",
      "dropout_42 (Dropout)         (None, 30, 30, 64)        0         \n",
      "_________________________________________________________________\n",
      "conv2d_58 (Conv2D)           (None, 30, 30, 64)        36928     \n",
      "_________________________________________________________________\n",
      "conv2d_59 (Conv2D)           (None, 28, 28, 64)        36928     \n",
      "_________________________________________________________________\n",
      "max_pooling2d_51 (MaxPooling (None, 14, 14, 64)        0         \n",
      "_________________________________________________________________\n",
      "dropout_43 (Dropout)         (None, 14, 14, 64)        0         \n",
      "_________________________________________________________________\n",
      "flatten_22 (Flatten)         (None, 12544)             0         \n",
      "_________________________________________________________________\n",
      "dense_62 (Dense)             (None, 512)               6423040   \n",
      "_________________________________________________________________\n",
      "dropout_44 (Dropout)         (None, 512)               0         \n",
      "_________________________________________________________________\n",
      "dense_63 (Dense)             (None, 8)                 4104      \n",
      "=================================================================\n",
      "Total params: 6,566,568\n",
      "Trainable params: 6,566,568\n",
      "Non-trainable params: 0\n",
      "_________________________________________________________________\n",
      "None\n"
     ]
    }
   ],
   "source": [
    "print(model1.summary())"
   ]
  },
  {
   "cell_type": "code",
   "execution_count": 196,
   "metadata": {},
   "outputs": [],
   "source": [
    "import glob\n",
    "import cv2\n",
    "import numpy as np\n",
    "pic_num=1\n",
    "IMG_DIR='C:\\\\Users\\\\Shubham\\\\Desktop\\\\New folder\\\\hakererth\\\\dance form\\\\0664343c9a8f11ea\\\\dataset\\\\test\\\\'\n",
    "def read_images(directory):\n",
    "    for img in glob.glob(directory+\"/*.jpg\"):\n",
    "        image = cv2.imread(img)\n",
    "        image=cv2.cvtColor(image, cv2.COLOR_BGR2RGB)\n",
    "        test_image = cv2.resize(image/255.0  , (32 , 32))\n",
    "        #cv2.imwrite(\"small/\"+str(pic_num)+'.jpg',resized_img)\n",
    "\n",
    "        yield test_image\n",
    "\n",
    "test_image =  np.array(list(read_images(IMG_DIR)))"
   ]
  },
  {
   "cell_type": "code",
   "execution_count": 198,
   "metadata": {},
   "outputs": [
    {
     "data": {
      "text/plain": [
       "(156, 32, 32, 3)"
      ]
     },
     "execution_count": 198,
     "metadata": {},
     "output_type": "execute_result"
    }
   ],
   "source": [
    "test_image.shape"
   ]
  },
  {
   "cell_type": "code",
   "execution_count": 205,
   "metadata": {},
   "outputs": [
    {
     "name": "stdout",
     "output_type": "stream",
     "text": [
      "Train on 254 samples, validate on 110 samples\n",
      "Epoch 1/20\n",
      " - 1s - loss: 1.4502 - accuracy: 0.5039 - val_loss: 2.3977 - val_accuracy: 0.1545\n",
      "Epoch 2/20\n",
      " - 1s - loss: 1.3293 - accuracy: 0.5276 - val_loss: 2.5032 - val_accuracy: 0.1727\n",
      "Epoch 3/20\n",
      " - 1s - loss: 1.1471 - accuracy: 0.6220 - val_loss: 2.8424 - val_accuracy: 0.1364\n",
      "Epoch 4/20\n",
      " - 1s - loss: 0.9773 - accuracy: 0.6969 - val_loss: 2.7931 - val_accuracy: 0.1727\n",
      "Epoch 5/20\n",
      " - 1s - loss: 0.8052 - accuracy: 0.7126 - val_loss: 3.1690 - val_accuracy: 0.1636\n",
      "Epoch 6/20\n",
      " - 1s - loss: 0.8621 - accuracy: 0.6811 - val_loss: 3.2281 - val_accuracy: 0.1000\n",
      "Epoch 7/20\n",
      " - 1s - loss: 0.6772 - accuracy: 0.7953 - val_loss: 3.3598 - val_accuracy: 0.1455\n",
      "Epoch 8/20\n",
      " - 1s - loss: 0.6304 - accuracy: 0.7874 - val_loss: 3.5779 - val_accuracy: 0.1455\n",
      "Epoch 9/20\n",
      " - 1s - loss: 0.5923 - accuracy: 0.7835 - val_loss: 3.7926 - val_accuracy: 0.1091\n",
      "Epoch 10/20\n",
      " - 1s - loss: 0.4765 - accuracy: 0.8583 - val_loss: 3.6466 - val_accuracy: 0.1364\n",
      "Epoch 11/20\n",
      " - 1s - loss: 0.4588 - accuracy: 0.8386 - val_loss: 3.9520 - val_accuracy: 0.1091\n",
      "Epoch 12/20\n",
      " - 1s - loss: 0.4223 - accuracy: 0.8386 - val_loss: 3.8652 - val_accuracy: 0.1455\n",
      "Epoch 13/20\n",
      " - 1s - loss: 0.4168 - accuracy: 0.8504 - val_loss: 3.9835 - val_accuracy: 0.1727\n",
      "Epoch 14/20\n",
      " - 1s - loss: 0.4408 - accuracy: 0.8661 - val_loss: 3.8669 - val_accuracy: 0.1091\n",
      "Epoch 15/20\n",
      " - 1s - loss: 0.3711 - accuracy: 0.8661 - val_loss: 4.1346 - val_accuracy: 0.1182\n",
      "Epoch 16/20\n",
      " - 1s - loss: 0.3650 - accuracy: 0.8622 - val_loss: 3.9617 - val_accuracy: 0.1364\n",
      "Epoch 17/20\n",
      " - 1s - loss: 0.3719 - accuracy: 0.8583 - val_loss: 4.1515 - val_accuracy: 0.1273\n",
      "Epoch 18/20\n",
      " - 1s - loss: 0.3776 - accuracy: 0.8622 - val_loss: 4.1536 - val_accuracy: 0.1364\n",
      "Epoch 19/20\n",
      " - 1s - loss: 0.3220 - accuracy: 0.8622 - val_loss: 4.0139 - val_accuracy: 0.1636\n",
      "Epoch 20/20\n",
      " - 1s - loss: 0.3116 - accuracy: 0.8819 - val_loss: 4.1749 - val_accuracy: 0.1273\n"
     ]
    },
    {
     "data": {
      "text/plain": [
       "<keras.callbacks.callbacks.History at 0x22624cc4208>"
      ]
     },
     "execution_count": 205,
     "metadata": {},
     "output_type": "execute_result"
    }
   ],
   "source": [
    "model.fit(train_image, y1, epochs=20, validation_split=0.3, verbose=2)"
   ]
  },
  {
   "cell_type": "code",
   "execution_count": 161,
   "metadata": {},
   "outputs": [],
   "source": [
    "testo=model.predict_classes(test_image)"
   ]
  },
  {
   "cell_type": "code",
   "execution_count": 162,
   "metadata": {},
   "outputs": [
    {
     "data": {
      "text/plain": [
       "array([4, 4, 4, 4, 6, 0, 3, 2, 7, 4, 7, 1, 6, 0, 5, 7, 1, 0, 6, 6, 1, 0,\n",
       "       6, 0, 0, 2, 2, 0, 2, 3, 3, 4, 6, 2, 2, 4, 4, 7, 2, 2, 2, 2, 1, 2,\n",
       "       6, 6, 5, 5, 5, 0, 7, 5, 5, 5, 1, 7, 5, 0, 5, 5, 7, 5, 7, 5, 5, 2,\n",
       "       5, 1, 6, 7, 3, 1, 7, 7, 0, 3, 6, 5, 1, 7, 7, 7, 0, 5, 1, 7, 0, 6,\n",
       "       4, 3, 3, 6, 3, 6, 4, 6, 6, 6, 3, 3, 3, 5, 6, 0, 5, 5, 7, 6, 6, 3,\n",
       "       4, 1, 1, 6, 0, 0, 5, 6, 6, 6, 0, 4, 6, 0, 6, 5, 3, 6, 6, 6, 6, 6,\n",
       "       5, 4, 6, 0, 3, 6, 0, 6, 6, 6, 6, 0, 0, 5, 7, 6, 6, 4, 4, 3, 0, 4,\n",
       "       7, 6], dtype=int64)"
      ]
     },
     "execution_count": 162,
     "metadata": {},
     "output_type": "execute_result"
    }
   ],
   "source": [
    "testo"
   ]
  },
  {
   "cell_type": "code",
   "execution_count": 163,
   "metadata": {},
   "outputs": [],
   "source": [
    "z=label_encoder.inverse_transform(testo)"
   ]
  },
  {
   "cell_type": "code",
   "execution_count": 164,
   "metadata": {},
   "outputs": [],
   "source": [
    "im=test['Image']"
   ]
  },
  {
   "cell_type": "code",
   "execution_count": 165,
   "metadata": {},
   "outputs": [],
   "source": [
    "subm=pd.DataFrame({'Image':im, 'target':z})"
   ]
  },
  {
   "cell_type": "code",
   "execution_count": 166,
   "metadata": {},
   "outputs": [],
   "source": [
    "subm.to_csv('submission.csv', index=False)"
   ]
  },
  {
   "cell_type": "code",
   "execution_count": 167,
   "metadata": {},
   "outputs": [
    {
     "data": {
      "text/plain": [
       "odissi           39\n",
       "mohiniyattam     23\n",
       "bharatanatyam    22\n",
       "sattriya         18\n",
       "manipuri         16\n",
       "kuchipudi        15\n",
       "kathakali        12\n",
       "kathak           11\n",
       "Name: target, dtype: int64"
      ]
     },
     "execution_count": 167,
     "metadata": {},
     "output_type": "execute_result"
    }
   ],
   "source": [
    "subm['target'].value_counts()"
   ]
  },
  {
   "cell_type": "code",
   "execution_count": 186,
   "metadata": {},
   "outputs": [],
   "source": [
    "data_dir='C:\\\\Users\\\\Shubham\\\\Desktop\\\\New folder\\\\hakererth\\\\dance form\\\\0664343c9a8f11ea\\\\dataset\\\\train\\\\'\n",
    "train_image = []\n",
    "for i in range(train.shape[0]):\n",
    "    img=image.load_img(data_dir + train['Image'].iloc[i],target_size=(32,32,1))\n",
    "    img = image.img_to_array(img)\n",
    "    img = img/255\n",
    "    train_image.append(img)\n",
    "    #labels.append(train['target'].iloc[i])\n",
    "X = np.array(train_image)    "
   ]
  },
  {
   "cell_type": "code",
   "execution_count": 190,
   "metadata": {},
   "outputs": [],
   "source": [
    "data_dir='C:\\\\Users\\\\Shubham\\\\Desktop\\\\New folder\\\\hakererth\\\\dance form\\\\0664343c9a8f11ea\\\\dataset\\\\test\\\\'\n",
    "test_image = []\n",
    "for i in range(test.shape[0]):\n",
    "    img=image.load_img(data_dir + test['Image'].iloc[i],target_size=(128,128,1))\n",
    "    img = image.img_to_array(img)\n",
    "    img = img/255\n",
    "    train_image.append(img)\n",
    "    #labels.append(train['target'].iloc[i])\n",
    "X1 = np.array(test_image)    "
   ]
  },
  {
   "cell_type": "code",
   "execution_count": 191,
   "metadata": {},
   "outputs": [
    {
     "data": {
      "text/plain": [
       "array([], dtype=float64)"
      ]
     },
     "execution_count": 191,
     "metadata": {},
     "output_type": "execute_result"
    }
   ],
   "source": [
    "X1"
   ]
  },
  {
   "cell_type": "code",
   "execution_count": 189,
   "metadata": {},
   "outputs": [],
   "source": [
    "test=pd.read_csv('test.csv')"
   ]
  },
  {
   "cell_type": "code",
   "execution_count": 192,
   "metadata": {},
   "outputs": [
    {
     "data": {
      "text/plain": [
       "(0,)"
      ]
     },
     "execution_count": 192,
     "metadata": {},
     "output_type": "execute_result"
    }
   ],
   "source": [
    "X1.shape"
   ]
  },
  {
   "cell_type": "code",
   "execution_count": 200,
   "metadata": {},
   "outputs": [
    {
     "data": {
      "text/plain": [
       "(364, 32, 32, 3)"
      ]
     },
     "execution_count": 200,
     "metadata": {},
     "output_type": "execute_result"
    }
   ],
   "source": [
    "X.shape"
   ]
  },
  {
   "cell_type": "code",
   "execution_count": 201,
   "metadata": {},
   "outputs": [],
   "source": [
    "import glob\n",
    "import cv2\n",
    "import numpy as np\n",
    "pic_num=1\n",
    "IMG_DIR='C:\\\\Users\\\\Shubham\\\\Desktop\\\\New folder\\\\hakererth\\\\dance form\\\\0664343c9a8f11ea\\\\dataset\\\\train\\\\'\n",
    "def read_images(directory):\n",
    "    for img in glob.glob(directory+\"/*.jpg\"):\n",
    "        image = cv2.imread(img)\n",
    "        image=cv2.cvtColor(image, cv2.COLOR_BGR2RGB)\n",
    "        train_image = cv2.resize(image/255.0  , (32 , 32))\n",
    "        #cv2.imwrite(\"small/\"+str(pic_num)+'.jpg',resized_img)\n",
    "\n",
    "        yield train_image\n",
    "\n",
    "train_image =  np.array(list(read_images(IMG_DIR)))"
   ]
  },
  {
   "cell_type": "code",
   "execution_count": 203,
   "metadata": {},
   "outputs": [
    {
     "data": {
      "text/plain": [
       "(364, 32, 32, 3)"
      ]
     },
     "execution_count": 203,
     "metadata": {},
     "output_type": "execute_result"
    }
   ],
   "source": [
    "train_image.shape"
   ]
  },
  {
   "cell_type": "code",
   "execution_count": null,
   "metadata": {},
   "outputs": [],
   "source": []
  }
 ],
 "metadata": {
  "kernelspec": {
   "display_name": "Python 3",
   "language": "python",
   "name": "python3"
  },
  "language_info": {
   "codemirror_mode": {
    "name": "ipython",
    "version": 3
   },
   "file_extension": ".py",
   "mimetype": "text/x-python",
   "name": "python",
   "nbconvert_exporter": "python",
   "pygments_lexer": "ipython3",
   "version": "3.7.3"
  }
 },
 "nbformat": 4,
 "nbformat_minor": 4
}
